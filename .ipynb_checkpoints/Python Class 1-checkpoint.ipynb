{
 "cells": [
  {
   "cell_type": "code",
   "execution_count": 1,
   "id": "4f7c79a4-b2e1-43ad-a5c0-2323843c913a",
   "metadata": {},
   "outputs": [
    {
     "name": "stdout",
     "output_type": "stream",
     "text": [
      "hello world\n"
     ]
    }
   ],
   "source": [
    "print(\"hello world\")"
   ]
  },
  {
   "cell_type": "markdown",
   "id": "27adb86a-59d6-4920-8b14-41a46d760a20",
   "metadata": {},
   "source": [
    "## SHORTCUTS of JUPYTER NOTEBOOK\n",
    "1. SHIFT + ENTER ==> Cell Execute\n",
    "2. ESC + A ==> Create cell above\n",
    "3. ESC + B ==> Create cell below\n",
    "4. ESC + M ==> convert cell to markdown\n",
    "5. \"#\" is ==> used for headings in markdown\n",
    "6. ESC + DD ==> Delete the cell on which you are atm\n",
    "7. ESC + R ==> Convert cell to raw(plain text)\n",
    "8. ESC + Y ===> Convert cell back to \"code\"\n",
    "### CTRL + SHIFT + H ( To get all shorcuts commands of Jupyter )"
   ]
  },
  {
   "cell_type": "code",
   "execution_count": 2,
   "id": "4eb41c13-c284-44e2-aeea-0a7129054dd4",
   "metadata": {},
   "outputs": [
    {
     "name": "stdout",
     "output_type": "stream",
     "text": [
      "Cloud Data Engineering Batch-2\n"
     ]
    }
   ],
   "source": [
    "print(\"Cloud Data Engineering Batch-2\")"
   ]
  },
  {
   "cell_type": "code",
   "execution_count": null,
   "id": "94307e28-4848-47e7-8c7d-ac027d94afbc",
   "metadata": {},
   "outputs": [],
   "source": [
    "# Variables\n",
    "Variable name can't start with number\n",
    "Variaable name can't have spaces\n",
    "Can use underscore \"_\" instad of spaces\n",
    "Can't use any character expect \"_\"\n",
    "Use precise(meaningful) and valid names\n",
    "# NOTE: Can't use the reserve words for variable name"
   ]
  }
 ],
 "metadata": {
  "kernelspec": {
   "display_name": "Python 3 (ipykernel)",
   "language": "python",
   "name": "python3"
  },
  "language_info": {
   "codemirror_mode": {
    "name": "ipython",
    "version": 3
   },
   "file_extension": ".py",
   "mimetype": "text/x-python",
   "name": "python",
   "nbconvert_exporter": "python",
   "pygments_lexer": "ipython3",
   "version": "3.12.7"
  }
 },
 "nbformat": 4,
 "nbformat_minor": 5
}
