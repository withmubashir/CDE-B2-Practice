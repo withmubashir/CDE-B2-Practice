{
 "cells": [
  {
   "cell_type": "code",
   "execution_count": 4,
   "id": "db4448af",
   "metadata": {},
   "outputs": [
    {
     "data": {
      "text/plain": [
       "[4.5, 5.2, 5.6, 6.3, 7.1, 5.8]"
      ]
     },
     "execution_count": 4,
     "metadata": {},
     "output_type": "execute_result"
    }
   ],
   "source": [
    "height = [4.5,5.2, 5.6,6.3,7.1,5.8]\n",
    "height\n"
   ]
  },
  {
   "cell_type": "code",
   "execution_count": 5,
   "id": "77644edf",
   "metadata": {},
   "outputs": [
    {
     "data": {
      "text/plain": [
       "[100, 98, 67, 71, 88, 77]"
      ]
     },
     "execution_count": 5,
     "metadata": {},
     "output_type": "execute_result"
    }
   ],
   "source": [
    "weight = [100,98,67,71,88,77]  \n",
    "weight"
   ]
  },
  {
   "cell_type": "code",
   "execution_count": 8,
   "id": "98b11b96",
   "metadata": {},
   "outputs": [
    {
     "ename": "TypeError",
     "evalue": "unsupported operand type(s) for ** or pow(): 'list' and 'int'",
     "output_type": "error",
     "traceback": [
      "\u001b[31m---------------------------------------------------------------------------\u001b[39m",
      "\u001b[31mTypeError\u001b[39m                                 Traceback (most recent call last)",
      "\u001b[36mCell\u001b[39m\u001b[36m \u001b[39m\u001b[32mIn[8]\u001b[39m\u001b[32m, line 2\u001b[39m\n\u001b[32m      1\u001b[39m \u001b[38;5;66;03m# BMI \u001b[39;00m\n\u001b[32m----> \u001b[39m\u001b[32m2\u001b[39m bmi = weight / \u001b[43mheight\u001b[49m\u001b[43m \u001b[49m\u001b[43m*\u001b[49m\u001b[43m*\u001b[49m\u001b[32;43m2\u001b[39;49m\n\u001b[32m      3\u001b[39m bmi\n",
      "\u001b[31mTypeError\u001b[39m: unsupported operand type(s) for ** or pow(): 'list' and 'int'"
     ]
    }
   ],
   "source": [
    "# BMI \n",
    "bmi = weight / height **2\n",
    "bmi\n"
   ]
  },
  {
   "cell_type": "markdown",
   "id": "0a0a972e",
   "metadata": {},
   "source": [
    "Numpy - Numerical Python\n",
    "\n"
   ]
  },
  {
   "cell_type": "code",
   "execution_count": 9,
   "id": "b12c0950",
   "metadata": {},
   "outputs": [
    {
     "name": "stdout",
     "output_type": "stream",
     "text": [
      "Requirement already satisfied: numpy in c:\\users\\teacher\\appdata\\local\\programs\\python\\python313\\lib\\site-packages (2.2.5)\n",
      "Note: you may need to restart the kernel to use updated packages.\n"
     ]
    },
    {
     "name": "stderr",
     "output_type": "stream",
     "text": [
      "\n",
      "[notice] A new release of pip is available: 25.0.1 -> 25.1.1\n",
      "[notice] To update, run: python.exe -m pip install --upgrade pip\n"
     ]
    }
   ],
   "source": [
    "pip install numpy"
   ]
  },
  {
   "cell_type": "code",
   "execution_count": 10,
   "id": "064ee2d6",
   "metadata": {},
   "outputs": [],
   "source": [
    "import numpy as np"
   ]
  },
  {
   "cell_type": "code",
   "execution_count": 19,
   "id": "2733ef20",
   "metadata": {},
   "outputs": [
    {
     "name": "stdout",
     "output_type": "stream",
     "text": [
      "<class 'numpy.ndarray'>\n"
     ]
    }
   ],
   "source": [
    "np_height =np.array([4.5,5.2, 5.6,6.3,7.1,5.8])\n",
    "print(type(np_height))"
   ]
  },
  {
   "cell_type": "code",
   "execution_count": 17,
   "id": "890da2dc",
   "metadata": {},
   "outputs": [
    {
     "data": {
      "text/plain": [
       "array([100,  98,  67,  71,  88,  77])"
      ]
     },
     "execution_count": 17,
     "metadata": {},
     "output_type": "execute_result"
    }
   ],
   "source": [
    "np_weight= np.array([100,98,67,71,88,77] )\n",
    "np_weight"
   ]
  },
  {
   "cell_type": "code",
   "execution_count": 14,
   "id": "d7e7dca0",
   "metadata": {},
   "outputs": [
    {
     "data": {
      "text/plain": [
       "array([0.01      , 0.01020408, 0.01492537, 0.01408451, 0.01136364,\n",
       "       0.01298701])"
      ]
     },
     "execution_count": 14,
     "metadata": {},
     "output_type": "execute_result"
    }
   ],
   "source": [
    "bmi = np_weight / np_height **2\n",
    "bmi\n"
   ]
  },
  {
   "cell_type": "markdown",
   "id": "07d88388",
   "metadata": {},
   "source": [
    "1D Array"
   ]
  },
  {
   "cell_type": "code",
   "execution_count": 21,
   "id": "ea733044",
   "metadata": {},
   "outputs": [
    {
     "data": {
      "text/plain": [
       "1"
      ]
     },
     "execution_count": 21,
     "metadata": {},
     "output_type": "execute_result"
    }
   ],
   "source": [
    "arr1 = np.array([1,2,3,4,5])\n",
    "arr1.ndim"
   ]
  },
  {
   "cell_type": "code",
   "execution_count": 25,
   "id": "0ee6e1d4",
   "metadata": {},
   "outputs": [
    {
     "name": "stdout",
     "output_type": "stream",
     "text": [
      "<class 'list'>\n"
     ]
    }
   ],
   "source": [
    "extra = [1,2.2,\"hello\",False]\n",
    "print(type(extra))"
   ]
  },
  {
   "cell_type": "code",
   "execution_count": null,
   "id": "3d038cab",
   "metadata": {},
   "outputs": [
    {
     "data": {
      "text/plain": [
       "array(['1', '2.2', 'hello', 'False'], dtype='<U32')"
      ]
     },
     "execution_count": 32,
     "metadata": {},
     "output_type": "execute_result"
    }
   ],
   "source": [
    "np.array([1,2.2,\"hello\",False]) # Supports only one type of data"
   ]
  },
  {
   "cell_type": "code",
   "execution_count": null,
   "id": "eb53e51e",
   "metadata": {},
   "outputs": [
    {
     "data": {
      "text/plain": [
       "[1, 2, 3, 4, 5, 6, 7, 8, 9, 10]"
      ]
     },
     "execution_count": 34,
     "metadata": {},
     "output_type": "execute_result"
    }
   ],
   "source": [
    "list1 = [1,2,3,4,5]\n",
    "list2 = [6,7,8,9,10]\n",
    "list1 + list2 # merge elements like append"
   ]
  },
  {
   "cell_type": "code",
   "execution_count": null,
   "id": "c9b0a620",
   "metadata": {},
   "outputs": [
    {
     "data": {
      "text/plain": [
       "array([ 7,  9, 11, 13, 15])"
      ]
     },
     "execution_count": 36,
     "metadata": {},
     "output_type": "execute_result"
    }
   ],
   "source": [
    "np_list1 = np.array([1,2,3,4,5])\n",
    "np_list2 = np.array([6,7,8,9,10])\n",
    "np_list1 + np_list2 # Sum the elements"
   ]
  },
  {
   "cell_type": "markdown",
   "id": "bae7fa7c",
   "metadata": {},
   "source": [
    "Numpy Subsetting"
   ]
  },
  {
   "cell_type": "code",
   "execution_count": 38,
   "id": "400503c9",
   "metadata": {},
   "outputs": [
    {
     "data": {
      "text/plain": [
       "np.int64(3)"
      ]
     },
     "execution_count": 38,
     "metadata": {},
     "output_type": "execute_result"
    }
   ],
   "source": [
    "np_list1[2]"
   ]
  },
  {
   "cell_type": "code",
   "execution_count": 39,
   "id": "1b9e326b",
   "metadata": {},
   "outputs": [
    {
     "data": {
      "text/plain": [
       "array([False,  True,  True,  True,  True])"
      ]
     },
     "execution_count": 39,
     "metadata": {},
     "output_type": "execute_result"
    }
   ],
   "source": [
    "np_list2 > 6"
   ]
  },
  {
   "cell_type": "code",
   "execution_count": 40,
   "id": "c829bba5",
   "metadata": {},
   "outputs": [
    {
     "data": {
      "text/plain": [
       "array([ 7,  8,  9, 10])"
      ]
     },
     "execution_count": 40,
     "metadata": {},
     "output_type": "execute_result"
    }
   ],
   "source": [
    "np_list2[np_list2 > 6]"
   ]
  },
  {
   "cell_type": "code",
   "execution_count": 41,
   "id": "f6cd3bd8",
   "metadata": {},
   "outputs": [
    {
     "data": {
      "text/plain": [
       "array([10])"
      ]
     },
     "execution_count": 41,
     "metadata": {},
     "output_type": "execute_result"
    }
   ],
   "source": [
    "np_list2[np_list2 > 9]"
   ]
  },
  {
   "cell_type": "markdown",
   "id": "8e5f2b1a",
   "metadata": {},
   "source": [
    "2D Array"
   ]
  },
  {
   "cell_type": "code",
   "execution_count": null,
   "id": "67079d96",
   "metadata": {},
   "outputs": [
    {
     "data": {
      "text/plain": [
       "array([[1, 2],\n",
       "       [3, 4],\n",
       "       [5, 6]])"
      ]
     },
     "execution_count": 46,
     "metadata": {},
     "output_type": "execute_result"
    }
   ],
   "source": [
    "# [ 1,2\n",
    "#   3,4]\n",
    "\n",
    "arr_2d = np.array([[1,2],[3,4],[5,6]])\n",
    "arr_2d\n",
    "# shape (rows,columns) (3,2)"
   ]
  },
  {
   "cell_type": "code",
   "execution_count": 47,
   "id": "63c04cef",
   "metadata": {},
   "outputs": [
    {
     "data": {
      "text/plain": [
       "2"
      ]
     },
     "execution_count": 47,
     "metadata": {},
     "output_type": "execute_result"
    }
   ],
   "source": [
    "arr_2d.ndim"
   ]
  },
  {
   "cell_type": "code",
   "execution_count": null,
   "id": "5ddf4ae6",
   "metadata": {},
   "outputs": [
    {
     "data": {
      "text/plain": [
       "np.int64(3)"
      ]
     },
     "execution_count": 48,
     "metadata": {},
     "output_type": "execute_result"
    }
   ],
   "source": [
    "# to get 3 element\n",
    "arr_2d[1,0]"
   ]
  },
  {
   "cell_type": "code",
   "execution_count": 49,
   "id": "37e11de8",
   "metadata": {},
   "outputs": [
    {
     "data": {
      "text/plain": [
       "array([3, 4])"
      ]
     },
     "execution_count": 49,
     "metadata": {},
     "output_type": "execute_result"
    }
   ],
   "source": [
    "arr_2d[1]"
   ]
  },
  {
   "cell_type": "code",
   "execution_count": null,
   "id": "8d1f2e60",
   "metadata": {},
   "outputs": [
    {
     "data": {
      "text/plain": [
       "array([[3, 4],\n",
       "       [5, 6]])"
      ]
     },
     "execution_count": 50,
     "metadata": {},
     "output_type": "execute_result"
    }
   ],
   "source": [
    "# to get last two matrix\n",
    "arr_2d[1:] # include, exclude"
   ]
  },
  {
   "cell_type": "code",
   "execution_count": 51,
   "id": "7e3d4598",
   "metadata": {},
   "outputs": [
    {
     "data": {
      "text/plain": [
       "array([[1, 2],\n",
       "       [3, 4]])"
      ]
     },
     "execution_count": 51,
     "metadata": {},
     "output_type": "execute_result"
    }
   ],
   "source": [
    "arr_2d[:2]"
   ]
  },
  {
   "cell_type": "code",
   "execution_count": 54,
   "id": "a1ca8e9c",
   "metadata": {},
   "outputs": [
    {
     "data": {
      "text/plain": [
       "np.int64(5)"
      ]
     },
     "execution_count": 54,
     "metadata": {},
     "output_type": "execute_result"
    }
   ],
   "source": [
    "# to get 5 \n",
    "arr_2d[2,0]"
   ]
  },
  {
   "cell_type": "code",
   "execution_count": null,
   "id": "2955ff81",
   "metadata": {},
   "outputs": [],
   "source": [
    "# [ 1, 2, 3\n",
    "#   4, 5, 6\n",
    "#   7, 8, 9]\n",
    "\n",
    "# 2D -> 3X3"
   ]
  },
  {
   "cell_type": "code",
   "execution_count": null,
   "id": "7cf78fa1",
   "metadata": {},
   "outputs": [
    {
     "data": {
      "text/plain": [
       "array([[[ 3,  4],\n",
       "        [ 5,  6]],\n",
       "\n",
       "       [[11, 12],\n",
       "        [20, 22]]])"
      ]
     },
     "execution_count": 67,
     "metadata": {},
     "output_type": "execute_result"
    }
   ],
   "source": [
    "arr_3d = np.array([[\n",
    "        [3, 4],\n",
    "       [5, 6]],\n",
    "       \n",
    "       [[11, 12],\n",
    "       [20, 22]]]\n",
    "       )\n",
    "arr_3d"
   ]
  },
  {
   "cell_type": "code",
   "execution_count": 68,
   "id": "6e0ca35b",
   "metadata": {},
   "outputs": [
    {
     "data": {
      "text/plain": [
       "np.int64(11)"
      ]
     },
     "execution_count": 68,
     "metadata": {},
     "output_type": "execute_result"
    }
   ],
   "source": [
    "arr_3d[1,0,0]"
   ]
  },
  {
   "cell_type": "code",
   "execution_count": 69,
   "id": "af7e07f1",
   "metadata": {},
   "outputs": [
    {
     "data": {
      "text/plain": [
       "np.int64(22)"
      ]
     },
     "execution_count": 69,
     "metadata": {},
     "output_type": "execute_result"
    }
   ],
   "source": [
    "arr_3d[1,1,1]"
   ]
  },
  {
   "cell_type": "code",
   "execution_count": 71,
   "id": "9ca357d7",
   "metadata": {},
   "outputs": [
    {
     "data": {
      "text/plain": [
       "array([[[  3,   4,  33],\n",
       "        [  5,   6,  88],\n",
       "        [  0,  14,  22]],\n",
       "\n",
       "       [[ 11,  12,  55],\n",
       "        [ 20,  22,  44],\n",
       "        [125, 120, 199]]])"
      ]
     },
     "execution_count": 71,
     "metadata": {},
     "output_type": "execute_result"
    }
   ],
   "source": [
    "arr_3d = np.array([[\n",
    "        [3, 4,33],\n",
    "       [5, 6,88],\n",
    "       [0, 14,22]],\n",
    "       \n",
    "       [[11, 12,55],\n",
    "       [20, 22,44],\n",
    "       [125, 120,199]]]\n",
    "       )\n",
    "arr_3d"
   ]
  },
  {
   "cell_type": "code",
   "execution_count": 75,
   "id": "0c391ffa",
   "metadata": {},
   "outputs": [
    {
     "data": {
      "text/plain": [
       "(2, 3, 3)"
      ]
     },
     "execution_count": 75,
     "metadata": {},
     "output_type": "execute_result"
    }
   ],
   "source": [
    "arr_3d.shape"
   ]
  },
  {
   "cell_type": "code",
   "execution_count": 72,
   "id": "3ad0816c",
   "metadata": {},
   "outputs": [
    {
     "data": {
      "text/plain": [
       "np.int64(120)"
      ]
     },
     "execution_count": 72,
     "metadata": {},
     "output_type": "execute_result"
    }
   ],
   "source": [
    "arr_3d[1,2,1]"
   ]
  },
  {
   "cell_type": "code",
   "execution_count": 73,
   "id": "96600037",
   "metadata": {},
   "outputs": [
    {
     "data": {
      "text/plain": [
       "np.int64(6)"
      ]
     },
     "execution_count": 73,
     "metadata": {},
     "output_type": "execute_result"
    }
   ],
   "source": [
    "arr_3d[0,1,1]"
   ]
  },
  {
   "cell_type": "markdown",
   "id": "1caffb53",
   "metadata": {},
   "source": [
    "Numpy Properties"
   ]
  },
  {
   "cell_type": "code",
   "execution_count": 77,
   "id": "17624b1e",
   "metadata": {},
   "outputs": [
    {
     "data": {
      "text/plain": [
       "dtype('int64')"
      ]
     },
     "execution_count": 77,
     "metadata": {},
     "output_type": "execute_result"
    }
   ],
   "source": [
    "np_list1 = np.array([1,2,3,4,5])\n",
    "np_list2 = np.array([6,7,8,9,10])\n",
    "\n",
    "np_list1.shape\n",
    "np_list1.size\n",
    "np_list1.dtype\n",
    "# Serach more properties "
   ]
  },
  {
   "cell_type": "markdown",
   "id": "20d23991",
   "metadata": {},
   "source": [
    "Builtin Creation methods\n"
   ]
  },
  {
   "cell_type": "code",
   "execution_count": 78,
   "id": "9e8839d1",
   "metadata": {},
   "outputs": [
    {
     "data": {
      "text/plain": [
       "array([[0., 0., 0.],\n",
       "       [0., 0., 0.]])"
      ]
     },
     "execution_count": 78,
     "metadata": {},
     "output_type": "execute_result"
    }
   ],
   "source": [
    "np.zeros((2,3))"
   ]
  },
  {
   "cell_type": "code",
   "execution_count": 79,
   "id": "946205c7",
   "metadata": {},
   "outputs": [
    {
     "data": {
      "text/plain": [
       "array([[1., 1., 1.],\n",
       "       [1., 1., 1.]])"
      ]
     },
     "execution_count": 79,
     "metadata": {},
     "output_type": "execute_result"
    }
   ],
   "source": [
    "np.ones((2,3))"
   ]
  },
  {
   "cell_type": "markdown",
   "id": "7180dc3e",
   "metadata": {},
   "source": [
    "Array operations\n",
    "\n"
   ]
  },
  {
   "cell_type": "code",
   "execution_count": null,
   "id": "5ca81683",
   "metadata": {},
   "outputs": [
    {
     "data": {
      "text/plain": [
       "array([ 7,  9, 11, 13, 15])"
      ]
     },
     "execution_count": 80,
     "metadata": {},
     "output_type": "execute_result"
    }
   ],
   "source": [
    "np_list1 = np.array([1,2,3,4,5])\n",
    "np_list2 = np.array([6,7,8,9,10])\n",
    "\n",
    "np_list1 + np_list2"
   ]
  },
  {
   "cell_type": "code",
   "execution_count": 81,
   "id": "eff53a4d",
   "metadata": {},
   "outputs": [
    {
     "data": {
      "text/plain": [
       "array([ 6, 14, 24, 36, 50])"
      ]
     },
     "execution_count": 81,
     "metadata": {},
     "output_type": "execute_result"
    }
   ],
   "source": [
    "np_list1 * np_list2"
   ]
  },
  {
   "cell_type": "code",
   "execution_count": 82,
   "id": "2f538ded",
   "metadata": {},
   "outputs": [
    {
     "data": {
      "text/plain": [
       "array([0.16666667, 0.28571429, 0.375     , 0.44444444, 0.5       ])"
      ]
     },
     "execution_count": 82,
     "metadata": {},
     "output_type": "execute_result"
    }
   ],
   "source": [
    "np_list1 / np_list2"
   ]
  },
  {
   "cell_type": "code",
   "execution_count": 84,
   "id": "1efbaf06",
   "metadata": {},
   "outputs": [
    {
     "data": {
      "text/plain": [
       "array([ 1,  4,  9, 16, 25])"
      ]
     },
     "execution_count": 84,
     "metadata": {},
     "output_type": "execute_result"
    }
   ],
   "source": [
    "np_list1 **2"
   ]
  },
  {
   "cell_type": "markdown",
   "id": "70104e53",
   "metadata": {},
   "source": [
    "Statistics\n"
   ]
  },
  {
   "cell_type": "code",
   "execution_count": 85,
   "id": "ef8e7db4",
   "metadata": {},
   "outputs": [
    {
     "data": {
      "text/plain": [
       "np.float64(3.0)"
      ]
     },
     "execution_count": 85,
     "metadata": {},
     "output_type": "execute_result"
    }
   ],
   "source": [
    "np.mean(np_list1)"
   ]
  },
  {
   "cell_type": "code",
   "execution_count": 86,
   "id": "e997b87a",
   "metadata": {},
   "outputs": [
    {
     "data": {
      "text/plain": [
       "np.float64(3.0)"
      ]
     },
     "execution_count": 86,
     "metadata": {},
     "output_type": "execute_result"
    }
   ],
   "source": [
    "np.median(np_list1)"
   ]
  },
  {
   "cell_type": "code",
   "execution_count": 87,
   "id": "1eb515a6",
   "metadata": {},
   "outputs": [
    {
     "data": {
      "text/plain": [
       "np.float64(3.5)"
      ]
     },
     "execution_count": 87,
     "metadata": {},
     "output_type": "execute_result"
    }
   ],
   "source": [
    "np_list1 = np.array([1,2,3,4,5,6])\n",
    "np.median(np_list1)"
   ]
  },
  {
   "cell_type": "code",
   "execution_count": null,
   "id": "109403a3",
   "metadata": {},
   "outputs": [
    {
     "data": {
      "text/plain": [
       "np.float64(1.707825127659933)"
      ]
     },
     "execution_count": 88,
     "metadata": {},
     "output_type": "execute_result"
    }
   ],
   "source": [
    "np.std(np_list1) # Standard deviation"
   ]
  },
  {
   "cell_type": "code",
   "execution_count": null,
   "id": "a2ae829c",
   "metadata": {},
   "outputs": [
    {
     "data": {
      "text/plain": [
       "np.float64(2.9166666666666665)"
      ]
     },
     "execution_count": 89,
     "metadata": {},
     "output_type": "execute_result"
    }
   ],
   "source": [
    "np.var(np_list1) # variance"
   ]
  },
  {
   "cell_type": "code",
   "execution_count": 91,
   "id": "6d64a827",
   "metadata": {},
   "outputs": [
    {
     "data": {
      "text/plain": [
       "np.int64(1)"
      ]
     },
     "execution_count": 91,
     "metadata": {},
     "output_type": "execute_result"
    }
   ],
   "source": [
    "np.max(np_list1)\n",
    "np.min(np_list1)"
   ]
  },
  {
   "cell_type": "code",
   "execution_count": null,
   "id": "6a7e046d",
   "metadata": {},
   "outputs": [],
   "source": [
    "# serach how to find the mode \n"
   ]
  },
  {
   "cell_type": "markdown",
   "id": "8fbc7a6b",
   "metadata": {},
   "source": [
    "Matplotlib "
   ]
  },
  {
   "cell_type": "code",
   "execution_count": null,
   "id": "cd298ff9",
   "metadata": {},
   "outputs": [],
   "source": [
    "pip install matplotlib\n",
    "# matplotlib, seaborn, plotly, dash"
   ]
  },
  {
   "cell_type": "code",
   "execution_count": 95,
   "id": "b99bc6b3",
   "metadata": {},
   "outputs": [],
   "source": [
    "import matplotlib.pyplot as plt"
   ]
  },
  {
   "cell_type": "code",
   "execution_count": 97,
   "id": "91f36f60",
   "metadata": {},
   "outputs": [
    {
     "data": {
      "image/png": "[encoded data removed]",
      "text/plain": [
       "<Figure size 640x480 with 1 Axes>"
      ]
     },
     "metadata": {},
     "output_type": "display_data"
    }
   ],
   "source": [
    "# Line Chart \n",
    "# mainly time ke basis\n",
    "\n",
    "year =  [2020,2021,2022,2023,2024,2025]\n",
    "sales = [100,105,120,130,270,70]\n",
    "\n",
    "# making a plot\n",
    "plt.plot(year,sales)\n",
    "\n",
    "# show a plot\n",
    "plt.show()\n"
   ]
  },
  {
   "cell_type": "code",
   "execution_count": 98,
   "id": "5a35eaec",
   "metadata": {},
   "outputs": [
    {
     "data": {
      "image/png": "[encoded data removed]",
      "text/plain": [
       "<Figure size 640x480 with 1 Axes>"
      ]
     },
     "metadata": {},
     "output_type": "display_data"
    }
   ],
   "source": [
    "\n",
    "year =  [2020,2021,2022,2023,2024,2025]\n",
    "sales = [100,105,120,130,270,70]\n",
    "\n",
    "# making a plot\n",
    "plt.plot(year,sales)\n",
    "plt.title(\"sales Analysis\")\n",
    "# show a plot\n",
    "plt.show()\n"
   ]
  },
  {
   "cell_type": "code",
   "execution_count": 100,
   "id": "7fa52a66",
   "metadata": {},
   "outputs": [
    {
     "data": {
      "image/png": "[encoded data removed]",
      "text/plain": [
       "<Figure size 640x480 with 1 Axes>"
      ]
     },
     "metadata": {},
     "output_type": "display_data"
    }
   ],
   "source": [
    "\n",
    "year =  [2020,2021,2022,2023,2024,2025]\n",
    "sales = [100,105,120,130,270,70]\n",
    "\n",
    "# making a plot\n",
    "plt.plot(year,sales)\n",
    "plt.title(\"sales Analysis\")\n",
    "plt.xlabel(\"Time\")\n",
    "plt.ylabel(\"Sales\")\n",
    "\n",
    "# show a plot\n",
    "plt.show()\n"
   ]
  },
  {
   "cell_type": "code",
   "execution_count": 108,
   "id": "5d6f74ca",
   "metadata": {},
   "outputs": [
    {
     "data": {
      "image/png": "[encoded data removed]",
      "text/plain": [
       "<Figure size 640x480 with 1 Axes>"
      ]
     },
     "metadata": {},
     "output_type": "display_data"
    }
   ],
   "source": [
    "\n",
    "year =  ['jan','feb','mar','apr']\n",
    "sales = [100,105,120,130]\n",
    "\n",
    "# making a plot\n",
    "plt.bar(year,sales,color='black')\n",
    "plt.title(\"sales Analysis\")\n",
    "plt.xlabel(\"Months\")\n",
    "plt.ylabel(\"Sales\")\n",
    "\n",
    "# show a plot\n",
    "plt.show()\n"
   ]
  },
  {
   "cell_type": "code",
   "execution_count": null,
   "id": "4d2a9f77",
   "metadata": {},
   "outputs": [],
   "source": [
    "# Scatter \n"
   ]
  },
  {
   "cell_type": "code",
   "execution_count": null,
   "id": "25f4da81",
   "metadata": {},
   "outputs": [],
   "source": []
  }
 ],
 "metadata": {
  "kernelspec": {
   "display_name": "Python 3",
   "language": "python",
   "name": "python3"
  },
  "language_info": {
   "codemirror_mode": {
    "name": "ipython",
    "version": 3
   },
   "file_extension": ".py",
   "mimetype": "text/x-python",
   "name": "python",
   "nbconvert_exporter": "python",
   "pygments_lexer": "ipython3",
   "version": "3.13.3"
  }
 },
 "nbformat": 4,
 "nbformat_minor": 5
}
