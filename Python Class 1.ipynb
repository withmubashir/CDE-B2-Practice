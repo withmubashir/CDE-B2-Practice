{
 "cells": [
  {
   "cell_type": "code",
   "execution_count": 3,
   "id": "4f7c79a4-b2e1-43ad-a5c0-2323843c913a",
   "metadata": {},
   "outputs": [
    {
     "name": "stdout",
     "output_type": "stream",
     "text": [
      "hello world\n"
     ]
    }
   ],
   "source": [
    "print(\"hello world\")"
   ]
  },
  {
   "cell_type": "markdown",
   "id": "27adb86a-59d6-4920-8b14-41a46d760a20",
   "metadata": {},
   "source": [
    "## SHORTCUTS of JUPYTER NOTEBOOK\n",
    "1. SHIFT + ENTER ==> Cell Execute\n",
    "2. ESC + A ==> Create cell above\n",
    "3. ESC + B ==> Create cell below\n",
    "4. ESC + M ==> convert cell to markdown\n",
    "5. \"#\" is ==> used for headings in markdown\n",
    "6. ESC + DD ==> Delete the cell on which you are atm\n",
    "7. ESC + R ==> Convert cell to raw(plain text)\n",
    "8. ESC + Y ===> Convert cell back to \"code\"\n",
    "### CTRL + SHIFT + H ( To get all shorcuts commands of Jupyter )"
   ]
  },
  {
   "cell_type": "code",
   "execution_count": 4,
   "id": "4eb41c13-c284-44e2-aeea-0a7129054dd4",
   "metadata": {},
   "outputs": [
    {
     "name": "stdout",
     "output_type": "stream",
     "text": [
      "Cloud Data Engineering Batch-2\n"
     ]
    }
   ],
   "source": [
    "print(\"Cloud Data Engineering Batch-2\")"
   ]
  },
  {
   "cell_type": "markdown",
   "id": "2562a65b-92ab-4db9-a3da-3ee046adaa88",
   "metadata": {},
   "source": [
    "### Variables\n",
    "- Variable name can't start with number\n",
    "- Variaable name can't have spaces\n",
    "- Can use underscore \"_\" instad of spaces\n",
    "- Can't use any character expect \"_\"\n",
    "- Use precise(meaningful) and valid names\n",
    "#### NOTE: Can't use the reserve words for variable name"
   ]
  },
  {
   "cell_type": "code",
   "execution_count": 23,
   "id": "45eecc29-341d-4376-82b2-f578a552be38",
   "metadata": {},
   "outputs": [],
   "source": [
    "Name = \"Mubashir Hussain\"   #string type variable declare\n",
    "age = 16                    #number type variable declare\n",
    "weight = 32.5               #floating type variable declare\n",
    "relationshipStatus = False  #Boolean type variable declare"
   ]
  },
  {
   "cell_type": "code",
   "execution_count": 24,
   "id": "f1d73da3-4aa2-49cb-be98-7e3f7a07ca2c",
   "metadata": {},
   "outputs": [
    {
     "name": "stdout",
     "output_type": "stream",
     "text": [
      "Mubashir Hussain\n",
      "<class 'str'>\n",
      "16\n",
      "<class 'int'>\n",
      "32.5\n",
      "<class 'float'>\n",
      "False\n",
      "<class 'bool'>\n"
     ]
    }
   ],
   "source": [
    "print(Name)\n",
    "print(type(Name))\n",
    "print(age)\n",
    "print(type(age))\n",
    "print(weight)\n",
    "print(type(weight))\n",
    "print(relationshipStatus)\n",
    "print(type(relationshipStatus))"
   ]
  },
  {
   "cell_type": "code",
   "execution_count": 25,
   "id": "93e20384-2cd6-4b43-b380-2b2177f7150c",
   "metadata": {},
   "outputs": [],
   "source": [
    "age += 4"
   ]
  },
  {
   "cell_type": "code",
   "execution_count": 26,
   "id": "95beb249-a13b-4c8f-86da-3ebaec29cf96",
   "metadata": {},
   "outputs": [
    {
     "data": {
      "text/plain": [
       "20"
      ]
     },
     "execution_count": 26,
     "metadata": {},
     "output_type": "execute_result"
    }
   ],
   "source": [
    "age"
   ]
  },
  {
   "cell_type": "code",
   "execution_count": 27,
   "id": "7a8ebfc2-c1a8-496c-b8b6-404b2df6171e",
   "metadata": {},
   "outputs": [],
   "source": [
    "value_subtraction = 6"
   ]
  },
  {
   "cell_type": "code",
   "execution_count": 28,
   "id": "e45131eb-b552-4c9c-86fd-b47de215851b",
   "metadata": {},
   "outputs": [],
   "source": [
    "age -= value_subtraction"
   ]
  },
  {
   "cell_type": "code",
   "execution_count": 29,
   "id": "0eda70a0-d80c-4e1b-b07f-de7cca807051",
   "metadata": {},
   "outputs": [
    {
     "data": {
      "text/plain": [
       "14"
      ]
     },
     "execution_count": 29,
     "metadata": {},
     "output_type": "execute_result"
    }
   ],
   "source": [
    "age"
   ]
  },
  {
   "cell_type": "markdown",
   "id": "255158ad-51a5-4b05-af71-6ed8e2f2830a",
   "metadata": {},
   "source": [
    "### Math expressions: Familiar operators"
   ]
  },
  {
   "cell_type": "code",
   "execution_count": 30,
   "id": "62045edb-3170-481d-9b07-0174a96fde3d",
   "metadata": {},
   "outputs": [
    {
     "data": {
      "text/plain": [
       "16"
      ]
     },
     "execution_count": 30,
     "metadata": {},
     "output_type": "execute_result"
    }
   ],
   "source": [
    "5+11"
   ]
  },
  {
   "cell_type": "code",
   "execution_count": 31,
   "id": "63294154-4c3f-400c-b5e3-4e9cf48c71cd",
   "metadata": {},
   "outputs": [
    {
     "data": {
      "text/plain": [
       "-2"
      ]
     },
     "execution_count": 31,
     "metadata": {},
     "output_type": "execute_result"
    }
   ],
   "source": [
    "15-17"
   ]
  },
  {
   "cell_type": "code",
   "execution_count": 32,
   "id": "7c233673-6de9-4098-8fcc-9753a825defb",
   "metadata": {},
   "outputs": [
    {
     "data": {
      "text/plain": [
       "324"
      ]
     },
     "execution_count": 32,
     "metadata": {},
     "output_type": "execute_result"
    }
   ],
   "source": [
    "18*18"
   ]
  },
  {
   "cell_type": "code",
   "execution_count": 34,
   "id": "8ade5967-eda1-49d7-b3f7-b0bdc703d972",
   "metadata": {},
   "outputs": [
    {
     "data": {
      "text/plain": [
       "1.0"
      ]
     },
     "execution_count": 34,
     "metadata": {},
     "output_type": "execute_result"
    }
   ],
   "source": [
    "99/99 # on dividiing answer is always in flaot"
   ]
  },
  {
   "cell_type": "code",
   "execution_count": 35,
   "id": "de7bedd5-b54e-41c0-a212-cd9f2020e8e1",
   "metadata": {},
   "outputs": [
    {
     "data": {
      "text/plain": [
       "100"
      ]
     },
     "execution_count": 35,
     "metadata": {},
     "output_type": "execute_result"
    }
   ],
   "source": [
    "int(500/5)"
   ]
  },
  {
   "cell_type": "markdown",
   "id": "370013e3-645f-4145-b0a6-b652b8fca6ec",
   "metadata": {},
   "source": [
    "### Math expressions: Unfamiliar operators"
   ]
  },
  {
   "cell_type": "code",
   "execution_count": null,
   "id": "f06e45e0-48db-4e2b-830f-66462a1b5275",
   "metadata": {},
   "outputs": [],
   "source": []
  }
 ],
 "metadata": {
  "kernelspec": {
   "display_name": "base",
   "language": "python",
   "name": "python3"
  },
  "language_info": {
   "codemirror_mode": {
    "name": "ipython",
    "version": 3
   },
   "file_extension": ".py",
   "mimetype": "text/x-python",
   "name": "python",
   "nbconvert_exporter": "python",
   "pygments_lexer": "ipython3",
   "version": "3.12.7"
  }
 },
 "nbformat": 4,
 "nbformat_minor": 5
}
