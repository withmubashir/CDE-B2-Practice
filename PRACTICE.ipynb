{
 "cells": [
  {
   "cell_type": "code",
   "execution_count": 1,
   "id": "f6b38c94-42d2-40e5-b5be-455ade77a1b1",
   "metadata": {},
   "outputs": [],
   "source": [
    "studentName = \"Ahmed\""
   ]
  },
  {
   "cell_type": "code",
   "execution_count": 2,
   "id": "6d854115-801a-4a0c-992b-568f7acef109",
   "metadata": {},
   "outputs": [],
   "source": [
    "studentRollNumber = 12"
   ]
  },
  {
   "cell_type": "code",
   "execution_count": 3,
   "id": "24a02bdc-e8e0-4c98-973f-8a8a658d6526",
   "metadata": {},
   "outputs": [],
   "source": [
    "studentName2 = \"Mubashir Hussain\""
   ]
  },
  {
   "cell_type": "code",
   "execution_count": 4,
   "id": "87f25146-e4f9-4bfd-8f5c-99a6ea69034f",
   "metadata": {},
   "outputs": [],
   "source": [
    "studentRollNumber2 = 13"
   ]
  },
  {
   "cell_type": "code",
   "execution_count": 5,
   "id": "31f4693f-f918-435f-ae22-1d3c5ffda522",
   "metadata": {},
   "outputs": [
    {
     "data": {
      "text/plain": [
       "('Ahmed', 12)"
      ]
     },
     "execution_count": 5,
     "metadata": {},
     "output_type": "execute_result"
    }
   ],
   "source": [
    "studentName, studentRollNumber"
   ]
  },
  {
   "cell_type": "code",
   "execution_count": 6,
   "id": "846d60cb-b39a-4a84-aff3-e29eee864a24",
   "metadata": {},
   "outputs": [
    {
     "name": "stdout",
     "output_type": "stream",
     "text": [
      "Ahmed Mubashir Hussain\n"
     ]
    }
   ],
   "source": [
    "print(studentName +\" \"+studentName2)"
   ]
  },
  {
   "cell_type": "code",
   "execution_count": 7,
   "id": "156fc97b-70ba-419c-a5a8-69fa82878ebd",
   "metadata": {},
   "outputs": [
    {
     "data": {
      "text/plain": [
       "'Ahmed Mubashir Hussain'"
      ]
     },
     "execution_count": 7,
     "metadata": {},
     "output_type": "execute_result"
    }
   ],
   "source": [
    "f\"{studentName} {studentName2}\""
   ]
  },
  {
   "cell_type": "code",
   "execution_count": 8,
   "id": "52c7cef4-dc86-4189-b094-39d3d43b788e",
   "metadata": {},
   "outputs": [
    {
     "data": {
      "text/plain": [
       "'Ahmed Mubashir Hussain'"
      ]
     },
     "execution_count": 8,
     "metadata": {},
     "output_type": "execute_result"
    }
   ],
   "source": [
    "\"{0} {1}\".format(studentName, studentName2)"
   ]
  },
  {
   "cell_type": "code",
   "execution_count": 9,
   "id": "1a61ddf8-6e7e-44f9-bd9f-083995c71a9c",
   "metadata": {},
   "outputs": [
    {
     "data": {
      "text/plain": [
       "('Ahmed', 13)"
      ]
     },
     "execution_count": 9,
     "metadata": {},
     "output_type": "execute_result"
    }
   ],
   "source": [
    "studentName, studentRollNumber2"
   ]
  }
 ],
 "metadata": {
  "kernelspec": {
   "display_name": "Python 3 (ipykernel)",
   "language": "python",
   "name": "python3"
  },
  "language_info": {
   "codemirror_mode": {
    "name": "ipython",
    "version": 3
   },
   "file_extension": ".py",
   "mimetype": "text/x-python",
   "name": "python",
   "nbconvert_exporter": "python",
   "pygments_lexer": "ipython3",
   "version": "3.12.7"
  }
 },
 "nbformat": 4,
 "nbformat_minor": 5
}
