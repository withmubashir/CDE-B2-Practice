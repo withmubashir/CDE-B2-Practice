{
 "cells": [
  {
   "cell_type": "code",
   "execution_count": 1,
   "id": "f6b38c94-42d2-40e5-b5be-455ade77a1b1",
   "metadata": {},
   "outputs": [],
   "source": [
    "student_name = \"Ahmed\""
   ]
  },
  {
   "cell_type": "code",
   "execution_count": 2,
   "id": "6d854115-801a-4a0c-992b-568f7acef109",
   "metadata": {},
   "outputs": [],
   "source": [
    "studentRollNumber = 12"
   ]
  },
  {
   "cell_type": "code",
   "execution_count": null,
   "id": "24a02bdc-e8e0-4c98-973f-8a8a658d6526",
   "metadata": {},
   "outputs": [],
   "source": []
  }
 ],
 "metadata": {
  "kernelspec": {
   "display_name": "Python 3 (ipykernel)",
   "language": "python",
   "name": "python3"
  },
  "language_info": {
   "codemirror_mode": {
    "name": "ipython",
    "version": 3
   },
   "file_extension": ".py",
   "mimetype": "text/x-python",
   "name": "python",
   "nbconvert_exporter": "python",
   "pygments_lexer": "ipython3",
   "version": "3.12.7"
  }
 },
 "nbformat": 4,
 "nbformat_minor": 5
}
