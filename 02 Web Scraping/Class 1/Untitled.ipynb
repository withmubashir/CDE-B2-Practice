{
 "cells": [
  {
   "cell_type": "code",
   "execution_count": 1,
   "id": "7651c281-46b2-4ba9-9d7f-2550c0f01f78",
   "metadata": {},
   "outputs": [
    {
     "name": "stdout",
     "output_type": "stream",
     "text": [
      "Collecting bs4\n",
      "  Downloading bs4-0.0.2-py2.py3-none-any.whl.metadata (411 bytes)\n",
      "Requirement already satisfied: beautifulsoup4 in c:\\users\\alone\\anaconda3\\lib\\site-packages (from bs4) (4.12.3)\n",
      "Requirement already satisfied: soupsieve>1.2 in c:\\users\\alone\\anaconda3\\lib\\site-packages (from beautifulsoup4->bs4) (2.5)\n",
      "Downloading bs4-0.0.2-py2.py3-none-any.whl (1.2 kB)\n",
      "Installing collected packages: bs4\n",
      "Successfully installed bs4-0.0.2\n"
     ]
    }
   ],
   "source": [
    "!pip  install bs4"
   ]
  },
  {
   "cell_type": "code",
   "execution_count": 1,
   "id": "12c91886-47f2-49b2-9be1-ce889d6d6ec8",
   "metadata": {},
   "outputs": [],
   "source": [
    "import requests\n",
    "from bs4 import BeautifulSoup"
   ]
  },
  {
   "cell_type": "code",
   "execution_count": 2,
   "id": "1e5fd5fa-308b-47af-901e-74db56e61d8d",
   "metadata": {},
   "outputs": [],
   "source": [
    "url = 'https://www.rozee.pk/job/jsearch/q/Python%20Developer'"
   ]
  },
  {
   "cell_type": "code",
   "execution_count": 3,
   "id": "a84fcd6d-b41d-4fbb-b0ab-e0d59d18e869",
   "metadata": {},
   "outputs": [],
   "source": [
    "response = requests.get(url)"
   ]
  },
  {
   "cell_type": "code",
   "execution_count": 4,
   "id": "5e52f021-175f-478a-8588-efcaf0465d34",
   "metadata": {},
   "outputs": [
    {
     "ename": "NameError",
     "evalue": "name 'web' is not defined",
     "output_type": "error",
     "traceback": [
      "\u001b[1;31m---------------------------------------------------------------------------\u001b[0m",
      "\u001b[1;31mNameError\u001b[0m                                 Traceback (most recent call last)",
      "Cell \u001b[1;32mIn[4], line 1\u001b[0m\n\u001b[1;32m----> 1\u001b[0m web\n",
      "\u001b[1;31mNameError\u001b[0m: name 'web' is not defined"
     ]
    }
   ],
   "source": [
    "webg"
   ]
  },
  {
   "cell_type": "code",
   "execution_count": 22,
   "id": "b90e614f-c69a-4e6b-985c-9fdbd143158d",
   "metadata": {},
   "outputs": [],
   "source": [
    "Soup = BeautifulSoup(web, 'html.parser')"
   ]
  },
  {
   "cell_type": "code",
   "execution_count": 23,
   "id": "541724f1-c235-490e-ac03-3c49c43b9791",
   "metadata": {},
   "outputs": [
    {
     "data": {
      "text/plain": [
       "\"Mobiles for Sale in Pakistan | Mobile Prices in PakistanMotorsPropertyOnly in MobilesLoginSellAll categoriesMobilesMobile PhonesAccessoriesSmart WatchesTabletsVehiclesCarsCars AccessoriesSpare PartsBuses, Vans & TrucksRickshaw & ChingchiTractors & TrailersCars on InstallmentsCar CareOther VehiclesBoatsOil & LubricantsProperty for SaleLand & PlotsHousesApartments & FlatsShops - Offices - Commercial SpacePortions & FloorsProperty for RentHousesPortions & FloorsApartments & FlatsShops - Offices - Commercial SpaceRoomsVacation Rentals - Guest HousesRoommates & Paying GuestsLand & PlotsElectronics & Home AppliancesComputers & AccessoriesTelevisions & AccessoriesGenerators, UPS & Power SolutionsAC & CoolersRefrigerators & FreezersCameras & AccessoriesGames & EntertainmentKitchen AppliancesVideo-AudiosOther Home AppliancesFansWashing Machines & DryersMicrowaves & OvensHeaters & GeysersSewing MachinesIrons & SteamersWater DispensersAir Purifiers & HumidifiersBikesMotorcyclesBicyclesSpare PartsBikes AccessoriesScootersATV & QuadsBusiness, Industrial & AgricultureOther Business & IndustryFood & RestaurantsMedical & PharmaTrade & Industrial MachineryConstruction & Heavy MachineryBusiness for SaleAgricultureServicesOther ServicesHome & Office RepairCar RentalTuitions & AcademiesDomestic HelpWeb DevelopmentTravel & VisaEvent ServicesDrivers & TaxiElectronics & Computer RepairConstruction ServicesConsultancy ServicesFarm & Fresh FoodHealth & BeautyVideo & PhotographyMovers & PackersArchitecture & Interior DesignRenting ServicesCatering & RestaurantCar ServicesCamera InstallationTailor ServicesInsurance ServicesJobsOther JobsOnlinePart TimeSalesRestaurants & HospitalityCustomer ServiceMarketingDomestic StaffEducationMedicalDelivery RidersGraphic DesignIT & NetworkingAccounting & FinanceHotels & TourismContent WritingClerical & AdministrationEngineeringSecurityManufacturingHuman ResourcesReal EstateAdvertising & PRInternshipsArchitecture & Interior DesignAnimalsHensParrotsCatsDogsPet Food & AccessoriesLivestockPigeonsRabbitsFinchesFishFertile EggsOther BirdsDucksDovesOther AnimalsPeacocksHorsesFurniture & Home DecorSofa & ChairsBeds & WardrobesTables & DiningOther Household ItemsOffice FurnitureHome DecorationGarden & OutdoorPainting & MirrorsCurtains & BlindsRugs & CarpetsBathroom AccessoriesFashion & BeautyClothesWatchesWeddingFootwearSkin & HairJewelleryBagsFragranceFashion AccessoriesMakeupOther FashionBooks, Sports & HobbiesGym & FitnessOther HobbiesSports EquipmentBooks & MagazinesMusical InstrumentsKidsKids VehiclesBaby GearToysKids FurnitureSwings & SlidesKids AccessoriesKids ClothingBath & DiapersMobile PhonesCarsMotorcyclesHousesVideo-AudiosTabletsLand & PlotsHomeMobiles in Pakistan10,000+ adsCategoriesAll categoriesMobilesMobile Phones(170154)Accessories(12915)Smart Watches(4902)Tablets(4259)LocationPrice PKR 1 LacIs DeliverableNo (192230)Want to see your stuff here?Make some extra cash by selling things in your community. Go on, it's quick and easy.Start sellingBack to topViewSort by: Newly listedFeaturedRs 21,500Oppo F15 8/256Gulberg, Lahore•4 weeks agoCallChatFeaturedRs 65,999Samsung | Samsung galaxy S21 | 8GB/128GB | OFFICIAL PTA APPROVEDNazimabad, Karachi•1 week agoCallChatFeaturedRs 126,000IPhone 13 pro non pta factory 256gbGulberg 3, Lahore•4 weeks agoCallChatFeaturedRs 250,000Iphone 14 pro max ptaPWD Colony, Rawalpindi•7 hours agoCallChatFeaturedRs 38,999Pixel 6A , 6a 6gb/128gb dual sim PTA Aproved total original stockWapda Town, Lahore•1 week agoCallChatFeaturedRs 91,999iphone 14 jv 10/10Wah Cantt, Wah•2 weeks agoCallChatFeaturedRs 95,000Google Pixel 8 pro 12gb 128gb ,256gb & 512gb PTA ApprovedDHA Phase 4, Karachi•4 days agoCallChatFeaturedRs 90,000IPHONE 11 128GB PTA APPROVEDTariq Road, Karachi•2 weeks agoCallChatFeaturedRs 7,000Infinix Hot 50 Pro Plus (8/256GB) Available On Easy Installment PlanFerozepur Road, Lahore•1 week agoCallChatWant to see your stuff here?Make some extra cash by selling things in your community. Go on, it's quick and easy.Start selling\\n\\n\\nRs 14,500samsung A30sSamanabad, Lahore•1 minute agoCallChat\\n\\n\\nRs 5,500iphone 7 boardOthers, Mirpur•1 minute agoCallChat\\n\\n\\nRs 39,000all okShahdara, Lahore•1 minute agoCallChat\\n\\n\\nRs 215,00015 pro max100 Ft Road, Sukkur•1 minute agoCallChat\\n\\n\\nRs 192,000iPhone 15 promax jv 93% 256 gb 10%10Akbarpura, Nowshera•1 minute agoCallChat\\n\\n\\nRs 23,000Realme note 60North Karachi, Karachi•1 minute agoChat\\n\\n\\nRs 145,000I phone 13 pro max with boxOthers, Samundri•1 minute agoCallChat\\n\\n\\nRs 60,000gaming phone(bht kam rate pr lgaya)Sambrial, Sialkot•1 minute agoChat\\n\\n\\nRs 45,000iphone xsmax 256 gb non pta factory unlockMuneer Abad, Faisalabad•2 minutes agoCallChat\\n\\n\\nRs 40,000iphone x pta approved with boxBahria Town, Lahore•2 minutes agoChat\\n\\n\\nRs 24,000infinix Smart 8 proLahori Gate, Peshawar•2 minutes agoChat\\n\\n\\nRs 425,000Samsung s25 Ultra 512 Dual Sim PTA ApprovedInk City, Hyderabad•2 minutes agoCallChat\\n\\n\\nRs 43,000Tecno camon 30 12/256Mustafa Taj Colony, Karachi•2 minutes agoCallChat\\n\\n\\nRs 26,500I phone x 256 GB complete box My Whatsapp number 03487362876Jharianwala, Hafizabad•2 minutes agoChatLoad morePopular Searches:iphone-vivo s1-oppo-infinix-samsung-laptopPopular CategoriesCarsFlats for rentMobile PhonesJobsTrending SearchesBikesWatchesBooksDogsAbout UsAbout Dubizzle GroupOLX BlogContact UsOLX for BusinessesOLXHelpSitemapTerms of usePrivacy PolicyFollow usFree Classifieds in Pakistan . © 2006-2025 OLX\""
      ]
     },
     "execution_count": 23,
     "metadata": {},
     "output_type": "execute_result"
    }
   ],
   "source": [
    "Soup.text"
   ]
  },
  {
   "cell_type": "code",
   "execution_count": null,
   "id": "d840e2f1-9fd9-4ea6-9ce1-940473227d11",
   "metadata": {},
   "outputs": [],
   "source": []
  }
 ],
 "metadata": {
  "kernelspec": {
   "display_name": "Python 3 (ipykernel)",
   "language": "python",
   "name": "python3"
  },
  "language_info": {
   "codemirror_mode": {
    "name": "ipython",
    "version": 3
   },
   "file_extension": ".py",
   "mimetype": "text/x-python",
   "name": "python",
   "nbconvert_exporter": "python",
   "pygments_lexer": "ipython3",
   "version": "3.12.7"
  }
 },
 "nbformat": 4,
 "nbformat_minor": 5
}
