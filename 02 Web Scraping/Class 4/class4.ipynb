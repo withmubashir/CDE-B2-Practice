{
 "cells": [
  {
   "cell_type": "code",
   "execution_count": null,
   "id": "a09e8f39",
   "metadata": {},
   "outputs": [
    {
     "name": "stdout",
     "output_type": "stream",
     "text": [
      "<Response [200]>\n",
      "Senior Python Developer Payne, Roberts and Davis \n",
      "        Stewartbury, AA\n",
      "       \n",
      "2021-04-08\n",
      "\n",
      "[['Senior Python Developer', 'Payne, Roberts and Davis', '\\n        Stewartbury, AA\\n      ', '\\n2021-04-08\\n'], ['Senior Python Developer', 'Payne, Roberts and Davis', '\\n        Stewartbury, AA\\n      ', '\\n2021-04-08\\n'], ['Senior Python Developer', 'Payne, Roberts and Davis', '\\n        Stewartbury, AA\\n      ', '\\n2021-04-08\\n'], ['Senior Python Developer', 'Payne, Roberts and Davis', '\\n        Stewartbury, AA\\n      ', '\\n2021-04-08\\n'], ['Senior Python Developer', 'Payne, Roberts and Davis', '\\n        Stewartbury, AA\\n      ', '\\n2021-04-08\\n'], ['Senior Python Developer', 'Payne, Roberts and Davis', '\\n        Stewartbury, AA\\n      ', '\\n2021-04-08\\n'], ['Senior Python Developer', 'Payne, Roberts and Davis', '\\n        Stewartbury, AA\\n      ', '\\n2021-04-08\\n'], ['Senior Python Developer', 'Payne, Roberts and Davis', '\\n        Stewartbury, AA\\n      ', '\\n2021-04-08\\n'], ['Senior Python Developer', 'Payne, Roberts and Davis', '\\n        Stewartbury, AA\\n      ', '\\n2021-04-08\\n'], ['Senior Python Developer', 'Payne, Roberts and Davis', '\\n        Stewartbury, AA\\n      ', '\\n2021-04-08\\n'], ['Senior Python Developer', 'Payne, Roberts and Davis', '\\n        Stewartbury, AA\\n      ', '\\n2021-04-08\\n'], ['Senior Python Developer', 'Payne, Roberts and Davis', '\\n        Stewartbury, AA\\n      ', '\\n2021-04-08\\n'], ['Senior Python Developer', 'Payne, Roberts and Davis', '\\n        Stewartbury, AA\\n      ', '\\n2021-04-08\\n'], ['Senior Python Developer', 'Payne, Roberts and Davis', '\\n        Stewartbury, AA\\n      ', '\\n2021-04-08\\n'], ['Senior Python Developer', 'Payne, Roberts and Davis', '\\n        Stewartbury, AA\\n      ', '\\n2021-04-08\\n'], ['Senior Python Developer', 'Payne, Roberts and Davis', '\\n        Stewartbury, AA\\n      ', '\\n2021-04-08\\n'], ['Senior Python Developer', 'Payne, Roberts and Davis', '\\n        Stewartbury, AA\\n      ', '\\n2021-04-08\\n'], ['Senior Python Developer', 'Payne, Roberts and Davis', '\\n        Stewartbury, AA\\n      ', '\\n2021-04-08\\n'], ['Senior Python Developer', 'Payne, Roberts and Davis', '\\n        Stewartbury, AA\\n      ', '\\n2021-04-08\\n'], ['Senior Python Developer', 'Payne, Roberts and Davis', '\\n        Stewartbury, AA\\n      ', '\\n2021-04-08\\n'], ['Senior Python Developer', 'Payne, Roberts and Davis', '\\n        Stewartbury, AA\\n      ', '\\n2021-04-08\\n'], ['Senior Python Developer', 'Payne, Roberts and Davis', '\\n        Stewartbury, AA\\n      ', '\\n2021-04-08\\n'], ['Senior Python Developer', 'Payne, Roberts and Davis', '\\n        Stewartbury, AA\\n      ', '\\n2021-04-08\\n'], ['Senior Python Developer', 'Payne, Roberts and Davis', '\\n        Stewartbury, AA\\n      ', '\\n2021-04-08\\n'], ['Senior Python Developer', 'Payne, Roberts and Davis', '\\n        Stewartbury, AA\\n      ', '\\n2021-04-08\\n'], ['Senior Python Developer', 'Payne, Roberts and Davis', '\\n        Stewartbury, AA\\n      ', '\\n2021-04-08\\n'], ['Senior Python Developer', 'Payne, Roberts and Davis', '\\n        Stewartbury, AA\\n      ', '\\n2021-04-08\\n'], ['Senior Python Developer', 'Payne, Roberts and Davis', '\\n        Stewartbury, AA\\n      ', '\\n2021-04-08\\n'], ['Senior Python Developer', 'Payne, Roberts and Davis', '\\n        Stewartbury, AA\\n      ', '\\n2021-04-08\\n'], ['Senior Python Developer', 'Payne, Roberts and Davis', '\\n        Stewartbury, AA\\n      ', '\\n2021-04-08\\n'], ['Senior Python Developer', 'Payne, Roberts and Davis', '\\n        Stewartbury, AA\\n      ', '\\n2021-04-08\\n'], ['Senior Python Developer', 'Payne, Roberts and Davis', '\\n        Stewartbury, AA\\n      ', '\\n2021-04-08\\n'], ['Senior Python Developer', 'Payne, Roberts and Davis', '\\n        Stewartbury, AA\\n      ', '\\n2021-04-08\\n'], ['Senior Python Developer', 'Payne, Roberts and Davis', '\\n        Stewartbury, AA\\n      ', '\\n2021-04-08\\n'], ['Senior Python Developer', 'Payne, Roberts and Davis', '\\n        Stewartbury, AA\\n      ', '\\n2021-04-08\\n'], ['Senior Python Developer', 'Payne, Roberts and Davis', '\\n        Stewartbury, AA\\n      ', '\\n2021-04-08\\n'], ['Senior Python Developer', 'Payne, Roberts and Davis', '\\n        Stewartbury, AA\\n      ', '\\n2021-04-08\\n'], ['Senior Python Developer', 'Payne, Roberts and Davis', '\\n        Stewartbury, AA\\n      ', '\\n2021-04-08\\n'], ['Senior Python Developer', 'Payne, Roberts and Davis', '\\n        Stewartbury, AA\\n      ', '\\n2021-04-08\\n'], ['Senior Python Developer', 'Payne, Roberts and Davis', '\\n        Stewartbury, AA\\n      ', '\\n2021-04-08\\n'], ['Senior Python Developer', 'Payne, Roberts and Davis', '\\n        Stewartbury, AA\\n      ', '\\n2021-04-08\\n'], ['Senior Python Developer', 'Payne, Roberts and Davis', '\\n        Stewartbury, AA\\n      ', '\\n2021-04-08\\n'], ['Senior Python Developer', 'Payne, Roberts and Davis', '\\n        Stewartbury, AA\\n      ', '\\n2021-04-08\\n'], ['Senior Python Developer', 'Payne, Roberts and Davis', '\\n        Stewartbury, AA\\n      ', '\\n2021-04-08\\n'], ['Senior Python Developer', 'Payne, Roberts and Davis', '\\n        Stewartbury, AA\\n      ', '\\n2021-04-08\\n'], ['Senior Python Developer', 'Payne, Roberts and Davis', '\\n        Stewartbury, AA\\n      ', '\\n2021-04-08\\n'], ['Senior Python Developer', 'Payne, Roberts and Davis', '\\n        Stewartbury, AA\\n      ', '\\n2021-04-08\\n'], ['Senior Python Developer', 'Payne, Roberts and Davis', '\\n        Stewartbury, AA\\n      ', '\\n2021-04-08\\n'], ['Senior Python Developer', 'Payne, Roberts and Davis', '\\n        Stewartbury, AA\\n      ', '\\n2021-04-08\\n'], ['Senior Python Developer', 'Payne, Roberts and Davis', '\\n        Stewartbury, AA\\n      ', '\\n2021-04-08\\n'], ['Senior Python Developer', 'Payne, Roberts and Davis', '\\n        Stewartbury, AA\\n      ', '\\n2021-04-08\\n'], ['Senior Python Developer', 'Payne, Roberts and Davis', '\\n        Stewartbury, AA\\n      ', '\\n2021-04-08\\n'], ['Senior Python Developer', 'Payne, Roberts and Davis', '\\n        Stewartbury, AA\\n      ', '\\n2021-04-08\\n'], ['Senior Python Developer', 'Payne, Roberts and Davis', '\\n        Stewartbury, AA\\n      ', '\\n2021-04-08\\n'], ['Senior Python Developer', 'Payne, Roberts and Davis', '\\n        Stewartbury, AA\\n      ', '\\n2021-04-08\\n'], ['Senior Python Developer', 'Payne, Roberts and Davis', '\\n        Stewartbury, AA\\n      ', '\\n2021-04-08\\n'], ['Senior Python Developer', 'Payne, Roberts and Davis', '\\n        Stewartbury, AA\\n      ', '\\n2021-04-08\\n'], ['Senior Python Developer', 'Payne, Roberts and Davis', '\\n        Stewartbury, AA\\n      ', '\\n2021-04-08\\n'], ['Senior Python Developer', 'Payne, Roberts and Davis', '\\n        Stewartbury, AA\\n      ', '\\n2021-04-08\\n'], ['Senior Python Developer', 'Payne, Roberts and Davis', '\\n        Stewartbury, AA\\n      ', '\\n2021-04-08\\n'], ['Senior Python Developer', 'Payne, Roberts and Davis', '\\n        Stewartbury, AA\\n      ', '\\n2021-04-08\\n'], ['Senior Python Developer', 'Payne, Roberts and Davis', '\\n        Stewartbury, AA\\n      ', '\\n2021-04-08\\n'], ['Senior Python Developer', 'Payne, Roberts and Davis', '\\n        Stewartbury, AA\\n      ', '\\n2021-04-08\\n'], ['Senior Python Developer', 'Payne, Roberts and Davis', '\\n        Stewartbury, AA\\n      ', '\\n2021-04-08\\n'], ['Senior Python Developer', 'Payne, Roberts and Davis', '\\n        Stewartbury, AA\\n      ', '\\n2021-04-08\\n'], ['Senior Python Developer', 'Payne, Roberts and Davis', '\\n        Stewartbury, AA\\n      ', '\\n2021-04-08\\n'], ['Senior Python Developer', 'Payne, Roberts and Davis', '\\n        Stewartbury, AA\\n      ', '\\n2021-04-08\\n'], ['Senior Python Developer', 'Payne, Roberts and Davis', '\\n        Stewartbury, AA\\n      ', '\\n2021-04-08\\n'], ['Senior Python Developer', 'Payne, Roberts and Davis', '\\n        Stewartbury, AA\\n      ', '\\n2021-04-08\\n'], ['Senior Python Developer', 'Payne, Roberts and Davis', '\\n        Stewartbury, AA\\n      ', '\\n2021-04-08\\n'], ['Senior Python Developer', 'Payne, Roberts and Davis', '\\n        Stewartbury, AA\\n      ', '\\n2021-04-08\\n'], ['Senior Python Developer', 'Payne, Roberts and Davis', '\\n        Stewartbury, AA\\n      ', '\\n2021-04-08\\n'], ['Senior Python Developer', 'Payne, Roberts and Davis', '\\n        Stewartbury, AA\\n      ', '\\n2021-04-08\\n'], ['Senior Python Developer', 'Payne, Roberts and Davis', '\\n        Stewartbury, AA\\n      ', '\\n2021-04-08\\n'], ['Senior Python Developer', 'Payne, Roberts and Davis', '\\n        Stewartbury, AA\\n      ', '\\n2021-04-08\\n'], ['Senior Python Developer', 'Payne, Roberts and Davis', '\\n        Stewartbury, AA\\n      ', '\\n2021-04-08\\n'], ['Senior Python Developer', 'Payne, Roberts and Davis', '\\n        Stewartbury, AA\\n      ', '\\n2021-04-08\\n'], ['Senior Python Developer', 'Payne, Roberts and Davis', '\\n        Stewartbury, AA\\n      ', '\\n2021-04-08\\n'], ['Senior Python Developer', 'Payne, Roberts and Davis', '\\n        Stewartbury, AA\\n      ', '\\n2021-04-08\\n'], ['Senior Python Developer', 'Payne, Roberts and Davis', '\\n        Stewartbury, AA\\n      ', '\\n2021-04-08\\n'], ['Senior Python Developer', 'Payne, Roberts and Davis', '\\n        Stewartbury, AA\\n      ', '\\n2021-04-08\\n'], ['Senior Python Developer', 'Payne, Roberts and Davis', '\\n        Stewartbury, AA\\n      ', '\\n2021-04-08\\n'], ['Senior Python Developer', 'Payne, Roberts and Davis', '\\n        Stewartbury, AA\\n      ', '\\n2021-04-08\\n'], ['Senior Python Developer', 'Payne, Roberts and Davis', '\\n        Stewartbury, AA\\n      ', '\\n2021-04-08\\n'], ['Senior Python Developer', 'Payne, Roberts and Davis', '\\n        Stewartbury, AA\\n      ', '\\n2021-04-08\\n'], ['Senior Python Developer', 'Payne, Roberts and Davis', '\\n        Stewartbury, AA\\n      ', '\\n2021-04-08\\n'], ['Senior Python Developer', 'Payne, Roberts and Davis', '\\n        Stewartbury, AA\\n      ', '\\n2021-04-08\\n'], ['Senior Python Developer', 'Payne, Roberts and Davis', '\\n        Stewartbury, AA\\n      ', '\\n2021-04-08\\n'], ['Senior Python Developer', 'Payne, Roberts and Davis', '\\n        Stewartbury, AA\\n      ', '\\n2021-04-08\\n'], ['Senior Python Developer', 'Payne, Roberts and Davis', '\\n        Stewartbury, AA\\n      ', '\\n2021-04-08\\n'], ['Senior Python Developer', 'Payne, Roberts and Davis', '\\n        Stewartbury, AA\\n      ', '\\n2021-04-08\\n'], ['Senior Python Developer', 'Payne, Roberts and Davis', '\\n        Stewartbury, AA\\n      ', '\\n2021-04-08\\n'], ['Senior Python Developer', 'Payne, Roberts and Davis', '\\n        Stewartbury, AA\\n      ', '\\n2021-04-08\\n'], ['Senior Python Developer', 'Payne, Roberts and Davis', '\\n        Stewartbury, AA\\n      ', '\\n2021-04-08\\n'], ['Senior Python Developer', 'Payne, Roberts and Davis', '\\n        Stewartbury, AA\\n      ', '\\n2021-04-08\\n'], ['Senior Python Developer', 'Payne, Roberts and Davis', '\\n        Stewartbury, AA\\n      ', '\\n2021-04-08\\n'], ['Senior Python Developer', 'Payne, Roberts and Davis', '\\n        Stewartbury, AA\\n      ', '\\n2021-04-08\\n'], ['Senior Python Developer', 'Payne, Roberts and Davis', '\\n        Stewartbury, AA\\n      ', '\\n2021-04-08\\n'], ['Senior Python Developer', 'Payne, Roberts and Davis', '\\n        Stewartbury, AA\\n      ', '\\n2021-04-08\\n'], ['Senior Python Developer', 'Payne, Roberts and Davis', '\\n        Stewartbury, AA\\n      ', '\\n2021-04-08\\n']]\n"
     ]
    }
   ],
   "source": [
    "from bs4 import BeautifulSoup\n",
    "import requests\n",
    "\n",
    "url = \"https://realpython.github.io/fake-jobs/\"\n",
    "request = requests.get(url)\n",
    "print(request)\n",
    "\n",
    "soup = BeautifulSoup(request.content, 'html.parser')\n",
    "# print(soup)\n",
    "\n",
    "title = soup.find('h2', class_ = 'title is-5').text\n",
    "subtitle = soup.find('h3', class_ =\"subtitle is-6 company\").text\n",
    "location = soup.find('p', class_ =\"location\").text\n",
    "date = soup.find('p', class_ =\"is-small has-text-grey\").text\n",
    "print(title,subtitle,location,date)\n",
    "\n",
    "div = soup.find_all('div', class_ = \"column is-half\")\n",
    "\n",
    "all_data = []\n",
    "\n",
    "for divs in div:\n",
    "    data = []\n",
    "    title = soup.find('h2', class_ = 'title is-5').text.strip()\n",
    "    subtitle = soup.find('h3', class_ =\"subtitle is-6 company\").text.strip()\n",
    "    location = soup.find('p', class_ =\"location\").text.strip()\n",
    "    date = soup.find('p', class_ =\"is-small has-text-grey\").text.strip()\n",
    "    data = [title,subtitle,location,date]\n",
    "    all_data.append(data)\n",
    "\n",
    "\n",
    "print(all_data)\n"
   ]
  }
 ],
 "metadata": {
  "kernelspec": {
   "display_name": "base",
   "language": "python",
   "name": "python3"
  },
  "language_info": {
   "codemirror_mode": {
    "name": "ipython",
    "version": 3
   },
   "file_extension": ".py",
   "mimetype": "text/x-python",
   "name": "python",
   "nbconvert_exporter": "python",
   "pygments_lexer": "ipython3",
   "version": "3.12.7"
  }
 },
 "nbformat": 4,
 "nbformat_minor": 5
}
