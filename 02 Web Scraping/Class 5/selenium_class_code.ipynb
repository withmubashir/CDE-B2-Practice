{
 "cells": [
  {
   "cell_type": "code",
   "execution_count": null,
   "metadata": {},
   "outputs": [],
   "source": [
    "pip install selenium"
   ]
  },
  {
   "cell_type": "code",
   "execution_count": null,
   "metadata": {},
   "outputs": [],
   "source": [
    "# BS4 (tags, class, id )\n",
    "# selenium (tags,class, id , xpath,js_selector, css_selector)\n",
    "# /html/body/section/div[2]/div/div[1]/div/div/div[1]/div[2]/h2\n",
    "# /html/body/section/div[2]/div/div[2]/div/div/div[1]/div[2]/h2"
   ]
  },
  {
   "cell_type": "code",
   "execution_count": 8,
   "metadata": {},
   "outputs": [],
   "source": [
    "from selenium import webdriver\n",
    "from selenium.webdriver.chrome.options import Options\n",
    "from selenium.webdriver.common.by import By\n",
    "# services\n",
    "options = Options()\n",
    "# options.add_argument(\"--headless\")\n",
    "\n",
    "driver = webdriver.Chrome(options=options)\n",
    "driver.get('https://realpython.github.io/fake-jobs/')"
   ]
  },
  {
   "cell_type": "code",
   "execution_count": 19,
   "metadata": {},
   "outputs": [
    {
     "data": {
      "text/plain": [
       "'Senior Python Developer'"
      ]
     },
     "execution_count": 19,
     "metadata": {},
     "output_type": "execute_result"
    }
   ],
   "source": [
    "title = driver.find_element(By.CLASS_NAME ,'title.is-5').text\n",
    "title"
   ]
  },
  {
   "cell_type": "code",
   "execution_count": 16,
   "metadata": {},
   "outputs": [
    {
     "data": {
      "text/plain": [
       "'Senior Python Developer'"
      ]
     },
     "execution_count": 16,
     "metadata": {},
     "output_type": "execute_result"
    }
   ],
   "source": [
    "title = driver.find_element(By.XPATH ,'/html/body/section/div[2]/div/div[1]/div/div/div[1]/div[2]/h2').text\n",
    "title"
   ]
  },
  {
   "cell_type": "code",
   "execution_count": 23,
   "metadata": {},
   "outputs": [
    {
     "name": "stdout",
     "output_type": "stream",
     "text": [
      "Senior Python Developer Payne, Roberts and Davis\n",
      "Energy engineer Vasquez-Davidson\n",
      "Legal executive Jackson, Chambers and Levy\n",
      "Fitness centre manager Savage-Bradley\n",
      "Product manager Ramirez Inc\n",
      "Medical technical officer Rogers-Yates\n",
      "Physiological scientist Kramer-Klein\n",
      "Textile designer Meyers-Johnson\n",
      "Television floor manager Hughes-Williams\n",
      "Waste management officer Jones, Williams and Villa\n",
      "Software Engineer (Python) Garcia PLC\n",
      "Interpreter Gregory and Sons\n",
      "Architect Clark, Garcia and Sosa\n",
      "Meteorologist Bush PLC\n",
      "Audiological scientist Salazar-Meyers\n",
      "English as a second language teacher Parker, Murphy and Brooks\n",
      "Surgeon Cruz-Brown\n",
      "Equities trader Macdonald-Ferguson\n",
      "Newspaper journalist Williams, Peterson and Rojas\n",
      "Materials engineer Smith and Sons\n",
      "Python Programmer (Entry-Level) Moss, Duncan and Allen\n",
      "Product/process development scientist Gomez-Carroll\n",
      "Scientist, research (maths) Manning, Welch and Herring\n",
      "Ecologist Lee, Gutierrez and Brown\n",
      "Materials engineer Davis, Serrano and Cook\n",
      "Historic buildings inspector/conservation officer Smith LLC\n",
      "Data scientist Thomas Group\n",
      "Psychiatrist Silva-King\n",
      "Structural engineer Pierce-Long\n",
      "Immigration officer Walker-Simpson\n",
      "Python Programmer (Entry-Level) Cooper and Sons\n",
      "Neurosurgeon Donovan, Gonzalez and Figueroa\n",
      "Broadcast engineer Morgan, Butler and Bennett\n",
      "Make Snyder-Lee\n",
      "Nurse, adult Harris PLC\n",
      "Air broker Washington PLC\n",
      "Editor, film/video Brown, Price and Campbell\n",
      "Production assistant, radio Mcgee PLC\n",
      "Engineer, communications Dixon Inc\n",
      "Sales executive Thompson, Sheppard and Ward\n",
      "Software Developer (Python) Adams-Brewer\n",
      "Futures trader Schneider-Brady\n",
      "Tour manager Gonzales-Frank\n",
      "Cytogeneticist Smith-Wong\n",
      "Designer, multimedia Pierce-Herrera\n",
      "Trade union research officer Aguilar, Rivera and Quinn\n",
      "Chemist, analytical Lowe, Barnes and Thomas\n",
      "Programmer, multimedia Lewis, Gonzalez and Vasquez\n",
      "Engineer, broadcasting (operations) Taylor PLC\n",
      "Teacher, primary school Oliver, Jones and Ramirez\n",
      "Python Developer Rivera and Sons\n",
      "Manufacturing systems engineer Garcia PLC\n",
      "Producer, television/film/video Johnson, Wells and Kramer\n",
      "Scientist, forensic Gonzalez LLC\n",
      "Bonds trader Morgan, White and Macdonald\n",
      "Editorial assistant Robinson-Fitzpatrick\n",
      "Photographer Waters, Wilson and Hoover\n",
      "Retail banker Hill LLC\n",
      "Jewellery designer Li-Gregory\n",
      "Ophthalmologist Fisher, Ryan and Coleman\n",
      "Back-End Web Developer (Python, Django) Stewart-Alexander\n",
      "Licensed conveyancer Abbott and Sons\n",
      "Futures trader Bryant, Santana and Davenport\n",
      "Counselling psychologist Smith PLC\n",
      "Insurance underwriter Patterson-Singh\n",
      "Engineer, automotive Martinez-Berry\n",
      "Producer, radio May, Taylor and Fisher\n",
      "Dispensing optician Bailey, Owen and Thompson\n",
      "Designer, fashion/clothing Vasquez Ltd\n",
      "Chartered loss adjuster Leblanc LLC\n",
      "Back-End Web Developer (Python, Django) Jackson, Ali and Mckee\n",
      "Forest/woodland manager Blankenship, Knight and Powell\n",
      "Clinical cytogeneticist Patton, Haynes and Jones\n",
      "Print production planner Wood Inc\n",
      "Systems developer Collins Group\n",
      "Graphic designer Flores-Nelson\n",
      "Writer Mitchell, Jones and Olson\n",
      "Field seismologist Howard Group\n",
      "Chief Strategy Officer Kramer-Edwards\n",
      "Air cabin crew Berry-Houston\n",
      "Python Programmer (Entry-Level) Mathews Inc\n",
      "Warden/ranger Riley-Johnson\n",
      "Sports therapist Spencer and Sons\n",
      "Arts development officer Camacho-Sanchez\n",
      "Printmaker Oliver and Sons\n",
      "Health and safety adviser Eaton PLC\n",
      "Manufacturing systems engineer Stanley-Frederick\n",
      "Programmer, applications Bradley LLC\n",
      "Medical physicist Parker, Goodwin and Zavala\n",
      "Media planner Kim-Miles\n",
      "Software Developer (Python) Moreno-Rodriguez\n",
      "Surveyor, land/geomatics Brown-Ortiz\n",
      "Legal executive Hartman PLC\n",
      "Librarian, academic Brooks Inc\n",
      "Barrister Washington-Castillo\n",
      "Museum/gallery exhibitions officer Nguyen, Yoder and Petty\n",
      "Radiographer, diagnostic Holder LLC\n",
      "Database administrator Yates-Ferguson\n",
      "Furniture designer Ortega-Lawrence\n",
      "Ship broker Fuentes, Walls and Castro\n"
     ]
    }
   ],
   "source": [
    "divs = driver.find_elements(By.CLASS_NAME ,'column.is-half')\n",
    "\n",
    "for div in divs:\n",
    "    title = div.find_element(By.CLASS_NAME ,'title.is-5').text\n",
    "    sub_title = div.find_element(By.CLASS_NAME ,'subtitle.is-6.company').text\n",
    "    # date and location \n",
    "    print(title,sub_title)\n",
    "    # break"
   ]
  },
  {
   "cell_type": "code",
   "execution_count": null,
   "metadata": {},
   "outputs": [],
   "source": []
  }
 ],
 "metadata": {
  "kernelspec": {
   "display_name": "Python 3",
   "language": "python",
   "name": "python3"
  },
  "language_info": {
   "codemirror_mode": {
    "name": "ipython",
    "version": 3
   },
   "file_extension": ".py",
   "mimetype": "text/x-python",
   "name": "python",
   "nbconvert_exporter": "python",
   "pygments_lexer": "ipython3",
   "version": "3.13.3"
  }
 },
 "nbformat": 4,
 "nbformat_minor": 2
}
