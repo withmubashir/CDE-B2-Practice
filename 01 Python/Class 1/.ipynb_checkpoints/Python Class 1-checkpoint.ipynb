{
 "cells": [
  {
   "cell_type": "code",
   "execution_count": 2,
   "id": "4f7c79a4-b2e1-43ad-a5c0-2323843c913a",
   "metadata": {},
   "outputs": [
    {
     "name": "stdout",
     "output_type": "stream",
     "text": [
      "hello world\n"
     ]
    }
   ],
   "source": [
    "print(\"hello world\")"
   ]
  },
  {
   "cell_type": "markdown",
   "id": "27adb86a-59d6-4920-8b14-41a46d760a20",
   "metadata": {},
   "source": [
    "## SHORTCUTS of JUPYTER NOTEBOOK\n",
    "1. SHIFT + ENTER ==> Cell Execute\n",
    "2. ESC + A ==> Create cell above\n",
    "3. ESC + B ==> Create cell below\n",
    "4. ESC + M ==> convert cell to markdown\n",
    "5. \"#\" is ==> used for headings in markdown\n",
    "6. ESC + DD ==> Delete the cell on which you are atm\n",
    "7. ESC + R ==> Convert cell to raw(plain text)\n",
    "8. ESC + Y ===> Convert cell back to \"code\"\n",
    "### CTRL + SHIFT + H ( To get all shorcuts commands of Jupyter )"
   ]
  },
  {
   "cell_type": "code",
   "execution_count": 3,
   "id": "4eb41c13-c284-44e2-aeea-0a7129054dd4",
   "metadata": {},
   "outputs": [
    {
     "name": "stdout",
     "output_type": "stream",
     "text": [
      "Cloud Data Engineering Batch-2\n"
     ]
    }
   ],
   "source": [
    "print(\"Cloud Data Engineering Batch-2\")"
   ]
  },
  {
   "cell_type": "markdown",
   "id": "2562a65b-92ab-4db9-a3da-3ee046adaa88",
   "metadata": {},
   "source": [
    "### Variables\n",
    "- Variable name can't start with number\n",
    "- Variaable name can't have spaces\n",
    "- Can use underscore \"_\" instad of spaces\n",
    "- Can't use any character expect \"_\"\n",
    "- Use precise(meaningful) and valid names\n",
    "#### NOTE: Can't use the reserve words for variable name"
   ]
  },
  {
   "cell_type": "code",
   "execution_count": 4,
   "id": "45eecc29-341d-4376-82b2-f578a552be38",
   "metadata": {},
   "outputs": [],
   "source": [
    "Name = \"Mubashir Hussain\"   #string type variable declare\n",
    "age = 16                    #number type variable declare\n",
    "weight = 32.5               #floating type variable declare\n",
    "relationshipStatus = False  #Boolean type variable declare"
   ]
  },
  {
   "cell_type": "code",
   "execution_count": 5,
   "id": "f1d73da3-4aa2-49cb-be98-7e3f7a07ca2c",
   "metadata": {},
   "outputs": [
    {
     "name": "stdout",
     "output_type": "stream",
     "text": [
      "Mubashir Hussain\n",
      "<class 'str'>\n",
      "16\n",
      "<class 'int'>\n",
      "32.5\n",
      "<class 'float'>\n",
      "False\n",
      "<class 'bool'>\n"
     ]
    }
   ],
   "source": [
    "print(Name)\n",
    "print(type(Name))\n",
    "print(age)\n",
    "print(type(age))\n",
    "print(weight)\n",
    "print(type(weight))\n",
    "print(relationshipStatus)\n",
    "print(type(relationshipStatus))"
   ]
  },
  {
   "cell_type": "code",
   "execution_count": 6,
   "id": "93e20384-2cd6-4b43-b380-2b2177f7150c",
   "metadata": {},
   "outputs": [],
   "source": [
    "age += 4"
   ]
  },
  {
   "cell_type": "code",
   "execution_count": 7,
   "id": "95beb249-a13b-4c8f-86da-3ebaec29cf96",
   "metadata": {},
   "outputs": [
    {
     "data": {
      "text/plain": [
       "20"
      ]
     },
     "execution_count": 7,
     "metadata": {},
     "output_type": "execute_result"
    }
   ],
   "source": [
    "age"
   ]
  },
  {
   "cell_type": "code",
   "execution_count": 8,
   "id": "7a8ebfc2-c1a8-496c-b8b6-404b2df6171e",
   "metadata": {},
   "outputs": [],
   "source": [
    "value_subtraction = 6"
   ]
  },
  {
   "cell_type": "code",
   "execution_count": 9,
   "id": "e45131eb-b552-4c9c-86fd-b47de215851b",
   "metadata": {},
   "outputs": [],
   "source": [
    "age -= value_subtraction"
   ]
  },
  {
   "cell_type": "code",
   "execution_count": 10,
   "id": "0eda70a0-d80c-4e1b-b07f-de7cca807051",
   "metadata": {},
   "outputs": [
    {
     "data": {
      "text/plain": [
       "14"
      ]
     },
     "execution_count": 10,
     "metadata": {},
     "output_type": "execute_result"
    }
   ],
   "source": [
    "age"
   ]
  },
  {
   "cell_type": "markdown",
   "id": "255158ad-51a5-4b05-af71-6ed8e2f2830a",
   "metadata": {},
   "source": [
    "### Math expressions: Familiar operators"
   ]
  },
  {
   "cell_type": "code",
   "execution_count": 11,
   "id": "62045edb-3170-481d-9b07-0174a96fde3d",
   "metadata": {},
   "outputs": [
    {
     "data": {
      "text/plain": [
       "16"
      ]
     },
     "execution_count": 11,
     "metadata": {},
     "output_type": "execute_result"
    }
   ],
   "source": [
    "5+11"
   ]
  },
  {
   "cell_type": "code",
   "execution_count": 12,
   "id": "63294154-4c3f-400c-b5e3-4e9cf48c71cd",
   "metadata": {},
   "outputs": [
    {
     "data": {
      "text/plain": [
       "-2"
      ]
     },
     "execution_count": 12,
     "metadata": {},
     "output_type": "execute_result"
    }
   ],
   "source": [
    "15-17"
   ]
  },
  {
   "cell_type": "code",
   "execution_count": 13,
   "id": "7c233673-6de9-4098-8fcc-9753a825defb",
   "metadata": {},
   "outputs": [
    {
     "data": {
      "text/plain": [
       "324"
      ]
     },
     "execution_count": 13,
     "metadata": {},
     "output_type": "execute_result"
    }
   ],
   "source": [
    "18*18"
   ]
  },
  {
   "cell_type": "code",
   "execution_count": 14,
   "id": "8ade5967-eda1-49d7-b3f7-b0bdc703d972",
   "metadata": {},
   "outputs": [
    {
     "data": {
      "text/plain": [
       "1.0"
      ]
     },
     "execution_count": 14,
     "metadata": {},
     "output_type": "execute_result"
    }
   ],
   "source": [
    "99/99 # on dividiing answer is always in flaot"
   ]
  },
  {
   "cell_type": "code",
   "execution_count": 15,
   "id": "de7bedd5-b54e-41c0-a212-cd9f2020e8e1",
   "metadata": {},
   "outputs": [
    {
     "data": {
      "text/plain": [
       "100"
      ]
     },
     "execution_count": 15,
     "metadata": {},
     "output_type": "execute_result"
    }
   ],
   "source": [
    "int(500/5)"
   ]
  },
  {
   "cell_type": "markdown",
   "id": "370013e3-645f-4145-b0a6-b652b8fca6ec",
   "metadata": {},
   "source": [
    "### Math expressions: Unfamiliar operators"
   ]
  },
  {
   "cell_type": "code",
   "execution_count": 16,
   "id": "f06e45e0-48db-4e2b-830f-66462a1b5275",
   "metadata": {},
   "outputs": [
    {
     "data": {
      "text/plain": [
       "51"
      ]
     },
     "execution_count": 16,
     "metadata": {},
     "output_type": "execute_result"
    }
   ],
   "source": [
    "987%78 #remainder operator"
   ]
  },
  {
   "cell_type": "code",
   "execution_count": 17,
   "id": "df0eddb6-a9b9-48e6-8d25-ebcb6b068503",
   "metadata": {},
   "outputs": [],
   "source": [
    "age+=2"
   ]
  },
  {
   "cell_type": "code",
   "execution_count": 18,
   "id": "2617613d-688f-49fb-b105-c10db041d1e2",
   "metadata": {},
   "outputs": [],
   "source": [
    "age /=6"
   ]
  },
  {
   "cell_type": "code",
   "execution_count": 19,
   "id": "24754a2b-12ba-41d7-8978-f1264f47acd4",
   "metadata": {},
   "outputs": [
    {
     "data": {
      "text/plain": [
       "2.6666666666666665"
      ]
     },
     "execution_count": 19,
     "metadata": {},
     "output_type": "execute_result"
    }
   ],
   "source": [
    "age"
   ]
  },
  {
   "cell_type": "code",
   "execution_count": 20,
   "id": "446dac40-7208-4428-896f-c9e35b0a1198",
   "metadata": {},
   "outputs": [
    {
     "data": {
      "text/plain": [
       "1000"
      ]
     },
     "execution_count": 20,
     "metadata": {},
     "output_type": "execute_result"
    }
   ],
   "source": [
    "10**3 #power"
   ]
  },
  {
   "cell_type": "markdown",
   "id": "173d69db-8dab-4d94-a319-8a3370ada5c1",
   "metadata": {},
   "source": [
    "### Math expressions: Eliminating ambiguity (PEMDAS)"
   ]
  },
  {
   "cell_type": "code",
   "execution_count": 21,
   "id": "4ac625e1-2980-4658-8414-cd98f0df16a1",
   "metadata": {},
   "outputs": [
    {
     "data": {
      "text/plain": [
       "206"
      ]
     },
     "execution_count": 21,
     "metadata": {},
     "output_type": "execute_result"
    }
   ],
   "source": [
    "10 * 23 - 24"
   ]
  },
  {
   "cell_type": "code",
   "execution_count": 22,
   "id": "52ffc656-6144-42a7-843b-0904bd7ad033",
   "metadata": {},
   "outputs": [
    {
     "data": {
      "text/plain": [
       "38.5"
      ]
     },
     "execution_count": 22,
     "metadata": {},
     "output_type": "execute_result"
    }
   ],
   "source": [
    "(93 / 2) + 12 + 22 * 23 / 11 - 66"
   ]
  },
  {
   "cell_type": "code",
   "execution_count": 23,
   "id": "d13e503d-c232-43a1-becc-fde716b15e99",
   "metadata": {},
   "outputs": [
    {
     "data": {
      "text/plain": [
       "18"
      ]
     },
     "execution_count": 23,
     "metadata": {},
     "output_type": "execute_result"
    }
   ],
   "source": [
    "(29 + 12) - 23"
   ]
  },
  {
   "cell_type": "code",
   "execution_count": 24,
   "id": "e271dc59-b5ff-419d-be59-2fd104823309",
   "metadata": {},
   "outputs": [
    {
     "data": {
      "text/plain": [
       "-956"
      ]
     },
     "execution_count": 24,
     "metadata": {},
     "output_type": "execute_result"
    }
   ],
   "source": [
    "12 - 22 * ( 44 )"
   ]
  },
  {
   "cell_type": "markdown",
   "id": "206ae78c-7e0f-4296-b900-f38d7f69a899",
   "metadata": {},
   "source": [
    "### Concatenating text strings"
   ]
  },
  {
   "cell_type": "code",
   "execution_count": 25,
   "id": "1df73a71-042e-4f5f-acc8-4631677bdc5d",
   "metadata": {},
   "outputs": [],
   "source": [
    "first_name = \"Mubashir\""
   ]
  },
  {
   "cell_type": "code",
   "execution_count": 26,
   "id": "b0353c49-f444-42b3-9f59-1984ee76fb7b",
   "metadata": {},
   "outputs": [],
   "source": [
    "last_name = \"Hussain\""
   ]
  },
  {
   "cell_type": "code",
   "execution_count": 27,
   "id": "2440501e-88fb-416b-b989-3b469289ed04",
   "metadata": {},
   "outputs": [
    {
     "data": {
      "text/plain": [
       "'MubashirHussain'"
      ]
     },
     "execution_count": 27,
     "metadata": {},
     "output_type": "execute_result"
    }
   ],
   "source": [
    "first_name + last_name #method 1 without space"
   ]
  },
  {
   "cell_type": "code",
   "execution_count": 28,
   "id": "36294f4c-9ca0-47ea-80a4-4d25868db4cd",
   "metadata": {},
   "outputs": [
    {
     "data": {
      "text/plain": [
       "'Mubashir Hussain'"
      ]
     },
     "execution_count": 28,
     "metadata": {},
     "output_type": "execute_result"
    }
   ],
   "source": [
    "first_name +\" \"+ last_name #method 1 with space"
   ]
  },
  {
   "cell_type": "code",
   "execution_count": 29,
   "id": "4b79c181-0adc-4fc4-a5b5-087fe79c3fd6",
   "metadata": {},
   "outputs": [
    {
     "data": {
      "text/plain": [
       "'MubashirHussain'"
      ]
     },
     "execution_count": 29,
     "metadata": {},
     "output_type": "execute_result"
    }
   ],
   "source": [
    "f'{first_name}{last_name}' #method 2 without space"
   ]
  },
  {
   "cell_type": "code",
   "execution_count": 32,
   "id": "f8db9c36-ecaf-4ef9-9b24-786d14af6f2c",
   "metadata": {},
   "outputs": [
    {
     "data": {
      "text/plain": [
       "'MubashirHussain'"
      ]
     },
     "execution_count": 32,
     "metadata": {},
     "output_type": "execute_result"
    }
   ],
   "source": [
    "f\"{first_name}{last_name}\" #we can use \"\" or ''"
   ]
  },
  {
   "cell_type": "code",
   "execution_count": 33,
   "id": "0dbb97de-d2dc-4068-8011-cf6e737b5eb3",
   "metadata": {},
   "outputs": [
    {
     "data": {
      "text/plain": [
       "'Mubashir Hussain'"
      ]
     },
     "execution_count": 33,
     "metadata": {},
     "output_type": "execute_result"
    }
   ],
   "source": [
    "f\"{first_name} {last_name}\" #method 2 with space"
   ]
  },
  {
   "cell_type": "code",
   "execution_count": 40,
   "id": "7707a1e3-944e-4724-a2d2-7a58e1810e8c",
   "metadata": {},
   "outputs": [
    {
     "data": {
      "text/plain": [
       "'MubashirHussain'"
      ]
     },
     "execution_count": 40,
     "metadata": {},
     "output_type": "execute_result"
    }
   ],
   "source": [
    "\"{0}{1}\".format(first_name, last_name) #method 3 without space"
   ]
  },
  {
   "cell_type": "code",
   "execution_count": 42,
   "id": "4e38d385-1eec-43c8-8942-71dc524954df",
   "metadata": {},
   "outputs": [
    {
     "data": {
      "text/plain": [
       "'Mubashir Hussain'"
      ]
     },
     "execution_count": 42,
     "metadata": {},
     "output_type": "execute_result"
    }
   ],
   "source": [
    "\"{0} {1}\".format(first_name, last_name) #method 3 with space"
   ]
  },
  {
   "cell_type": "code",
   "execution_count": null,
   "id": "bfcdffea-47f2-4614-9f3e-68ff1ef429bf",
   "metadata": {},
   "outputs": [],
   "source": []
  }
 ],
 "metadata": {
  "kernelspec": {
   "display_name": "Python 3 (ipykernel)",
   "language": "python",
   "name": "python3"
  },
  "language_info": {
   "codemirror_mode": {
    "name": "ipython",
    "version": 3
   },
   "file_extension": ".py",
   "mimetype": "text/x-python",
   "name": "python",
   "nbconvert_exporter": "python",
   "pygments_lexer": "ipython3",
   "version": "3.12.7"
  }
 },
 "nbformat": 4,
 "nbformat_minor": 5
}
