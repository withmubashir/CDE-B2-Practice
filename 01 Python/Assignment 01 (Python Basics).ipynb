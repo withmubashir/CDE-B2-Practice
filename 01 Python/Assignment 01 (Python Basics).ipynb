{
 "cells": [
  {
   "cell_type": "markdown",
   "metadata": {},
   "source": [
    "# Part -1 Python Basics (Variables)"
   ]
  },
  {
   "cell_type": "markdown",
   "metadata": {},
   "source": [
    "1. Print Your Name with your Father name and Date of birth using suitable escape sequence charactor"
   ]
  },
  {
   "cell_type": "code",
   "execution_count": 1,
   "metadata": {},
   "outputs": [
    {
     "name": "stdout",
     "output_type": "stream",
     "text": [
      "Name: Mubashir Hussain\n",
      "Father Name: Muhammad Saleh\n",
      "Date of Birth: 10\\03\\2009\n"
     ]
    }
   ],
   "source": [
    "print(\"Name: Mubashir Hussain\\nFather Name: Muhammad Saleh\\nDate of Birth: 10\\\\03\\\\2009\")"
   ]
  },
  {
   "cell_type": "markdown",
   "metadata": {},
   "source": [
    "2. Write your small bio using variables and print it using print function"
   ]
  },
  {
   "cell_type": "code",
   "execution_count": 2,
   "metadata": {},
   "outputs": [
    {
     "name": "stdout",
     "output_type": "stream",
     "text": [
      "['Name: Mubashir Hussain', 'F. Name Muhammad Saleh', 'Education: Intermediate', 'Center: SMIT Zaitoon Ashraf', 'Roll Number: 371381']\n"
     ]
    }
   ],
   "source": [
    "bio = [\n",
    "    \"Name: Mubashir Hussain\",\n",
    "    \"F. Name Muhammad Saleh\",\n",
    "    \"Education: Intermediate\",\n",
    "    \"Center: SMIT Zaitoon Ashraf\",\n",
    "    \"Roll Number: 371381\"\n",
    "]\n",
    "print(bio)"
   ]
  },
  {
   "cell_type": "markdown",
   "metadata": {},
   "source": [
    "3. Write a program in which use all the operators we can use in Python"
   ]
  },
  {
   "cell_type": "code",
   "execution_count": 3,
   "metadata": {},
   "outputs": [
    {
     "name": "stdout",
     "output_type": "stream",
     "text": [
      "108\n",
      "68\n",
      "4.4\n",
      "1760\n",
      "7744\n",
      "88.0\n"
     ]
    }
   ],
   "source": [
    "num = 88\n",
    "print(num + 20)\n",
    "print(num -20)\n",
    "print(num/20)\n",
    "print(num*20)\n",
    "print(num**2)\n",
    "num+=20\n",
    "num-=20\n",
    "num*=20\n",
    "num/=20\n",
    "print(num)"
   ]
  },
  {
   "cell_type": "markdown",
   "metadata": {},
   "source": [
    "4. Completes the following steps of small task:\n",
    "    - Mention Marks of English , Islamiat and Maths out of 100 in 3 different variables\n",
    "    - Mention Variable of Total Marks and assign 300 to it\n",
    "    - Calculate Percentage"
   ]
  },
  {
   "cell_type": "code",
   "execution_count": 4,
   "metadata": {},
   "outputs": [
    {
     "name": "stdout",
     "output_type": "stream",
     "text": [
      "74.0\n"
     ]
    }
   ],
   "source": [
    "english = 55\n",
    "islamiat = 67\n",
    "math = 100\n",
    "\n",
    "total_marks = 300\n",
    "\n",
    "numbers = english+islamiat+math\n",
    "print(numbers/total_marks*100)"
   ]
  },
  {
   "cell_type": "markdown",
   "metadata": {},
   "source": [
    "# Part -2 Python Basics (Conditional Statements)"
   ]
  },
  {
   "cell_type": "markdown",
   "metadata": {},
   "source": [
    "1) A company decided to give bonus of 5% to employee if his/her year of service is more than 5 years.\n",
    "Ask user for their salary and year of service and print the net bonus amount."
   ]
  },
  {
   "cell_type": "code",
   "execution_count": null,
   "metadata": {},
   "outputs": [],
   "source": [
    "service_year = int(input(\"enter your years service \" ))\n",
    "salary = int(input(\"enter your salary\" ))\n",
    "if service_year >= 5:\n",
    "    bonus = int(salary/20)\n",
    "    print(\"Conratulations! You Got a Bonus of:\", bonus)\n",
    "else:\n",
    "    print(\"Sorry, you are not eligible for a bonus.\")"
   ]
  },
  {
   "cell_type": "markdown",
   "metadata": {},
   "source": [
    "\n",
    "2) Write a program to check whether a person is eligible for voting or not. (accept age from user) if age is greater than 17 eligible otherwise not eligible"
   ]
  },
  {
   "cell_type": "code",
   "execution_count": null,
   "metadata": {},
   "outputs": [],
   "source": [
    "age = int(input(\"Enter Your Age\"))\n",
    "\n",
    "if age > 17:\n",
    "    print(\"You're Eligible For Voting\")\n",
    "else:\n",
    "    print(\"You Are Not Eligible For Voting\")"
   ]
  },
  {
   "cell_type": "markdown",
   "metadata": {},
   "source": [
    "\n",
    "3) Write a program to check whether a number entered by user is even or odd."
   ]
  },
  {
   "cell_type": "code",
   "execution_count": null,
   "metadata": {},
   "outputs": [],
   "source": [
    "number = int(input(\"Write a Number: \"))\n",
    "remainder = number%2\n",
    "\n",
    "if remainder == 0:\n",
    "    print(\"This is an Even Number\")\n",
    "else:\n",
    "    print(\"This is an Odd Number\")"
   ]
  },
  {
   "cell_type": "markdown",
   "metadata": {},
   "source": [
    "4) Write a program to check whether a number is divisible by 7 or not.\n",
    "Show Answer"
   ]
  },
  {
   "cell_type": "code",
   "execution_count": null,
   "metadata": {},
   "outputs": [],
   "source": [
    "number1 = int(input(\"Write a Number: \"))\n",
    "remainder1 = number1%7\n",
    "\n",
    "if remainder1 == 0:\n",
    "    print(\"This number is divisible by 7\")\n",
    "else:\n",
    "    print(\"This is not divisible by 7\")"
   ]
  },
  {
   "cell_type": "markdown",
   "metadata": {},
   "source": [
    "5) Write a program to display \n",
    "\"Hello\" if a number entered by user is a multiple of five , otherwise print \"Bye\"."
   ]
  },
  {
   "cell_type": "code",
   "execution_count": 1,
   "metadata": {},
   "outputs": [
    {
     "name": "stdout",
     "output_type": "stream",
     "text": [
      "Bye\n"
     ]
    }
   ],
   "source": [
    "number3 = int(input(\"Enter a number: \"))\n",
    "\n",
    "if number3%5 == 0:\n",
    "  print(\"Hello\")\n",
    "else:\n",
    "  print(\"Bye\")"
   ]
  },
  {
   "cell_type": "markdown",
   "metadata": {},
   "source": [
    "7) Write a program to display the last digit of a number.\n"
   ]
  },
  {
   "cell_type": "code",
   "execution_count": null,
   "metadata": {},
   "outputs": [],
   "source": [
    "number4 = int(input(\"Enter any numbers: \"))\n",
    "last_digit = number4%10\n",
    "print(f'Your last digit is: {last_digit}')"
   ]
  },
  {
   "cell_type": "markdown",
   "metadata": {},
   "source": [
    "9) Take values of length and breadth of a rectangle from user and print if it is square or rectangle."
   ]
  },
  {
   "cell_type": "code",
   "execution_count": null,
   "metadata": {},
   "outputs": [],
   "source": [
    "shape_input = int(input(\"Enter the length: \"))\n",
    "shape_input2 = int(input(\"Enter the breadth: \"))\n",
    "\n",
    "if shape_input == shape_input2:\n",
    "    print(\"it's a squre shape\")\n",
    "else:\n",
    "    print(\"it's a rectangle shape\")"
   ]
  },
  {
   "cell_type": "markdown",
   "metadata": {},
   "source": [
    "10) Take two int values from user and print greatest among them."
   ]
  },
  {
   "cell_type": "code",
   "execution_count": null,
   "metadata": {},
   "outputs": [],
   "source": [
    "input_value = int(input(\"Enter the number: \"))\n",
    "input_value2 = int(input(\"Enter the 2nd number : \"))\n",
    "\n",
    "if input_value > input_value2:\n",
    "    print(\"input one is greator \", input_value )\n",
    "else:\n",
    "    print(\"input two is greator \", input_value2)\n"
   ]
  },
  {
   "cell_type": "markdown",
   "metadata": {},
   "source": [
    "11) A shop will give discount of 10% if the cost of purchased quantity is more than 1000.\n",
    "Ask user for quantity\n",
    "Suppose, one unit will cost 100.\n",
    "Judge and print total cost for user."
   ]
  },
  {
   "cell_type": "code",
   "execution_count": null,
   "metadata": {},
   "outputs": [],
   "source": [
    "print(\"Our Product Price is 100\")\n",
    "input_quantity = int(input(\"Enter Your Product Quantity: \"))\n",
    "total_price = input_quantity*100\n",
    "discount_price = total_price - total_price/10\n",
    "if total_price >= 1000:\n",
    "    print(\"Your total cost is after 10% discount:\", int(discount_price))\n",
    "else:\n",
    "    print(\"you are not eligible for discount\")"
   ]
  },
  {
   "cell_type": "markdown",
   "metadata": {},
   "source": [
    "12) A school has following rules for grading system:\n",
    "\n",
    "a. Below 25 - F\n",
    "\n",
    "b. 25 to 45 - E\n",
    "\n",
    "c. 45 to 50 - D\n",
    "\n",
    "d. 50 to 60 - C\n",
    "\n",
    "e. 60 to 80 - B\n",
    "\n",
    "f. Above 80 - A\n",
    "\n",
    "Ask user to enter marks and print the corresponding grade."
   ]
  },
  {
   "cell_type": "code",
   "execution_count": null,
   "metadata": {},
   "outputs": [],
   "source": [
    "marks = int(input(\"Enter your Marks\"))\n",
    "\n",
    "if marks > 80 and marks <= 100:\n",
    "    print(\"Grade A\")\n",
    "elif marks > 60 and marks <= 80:\n",
    "    print(\"Grade B\")\n",
    "elif marks > 50 and marks <= 60:\n",
    "    print(\"Grade C\")\n",
    "elif marks > 45 and marks <= 50:\n",
    "    print(\"Grade D\")\n",
    "elif marks > 25 and marks <= 45:\n",
    "    print(\"Grade E\")\n",
    "elif marks > 0 and marks <= 25:\n",
    "    print(\"Grade F\")\n",
    "else:\n",
    "    print(\"Invalid Input\")\n"
   ]
  },
  {
   "cell_type": "markdown",
   "metadata": {},
   "source": [
    "14)A student will not be allowed to sit in exam if his/her attendence is less than 75%.\n",
    "\n",
    "Take following input from user\n",
    "\n",
    "- Number of classes held\n",
    "\n",
    "- Number of classes attended.\n",
    "\n",
    "And print\n",
    "\n",
    "- percentage of class attended\n",
    "\n",
    "- Is student is allowed to sit in exam or not.\n"
   ]
  },
  {
   "cell_type": "code",
   "execution_count": null,
   "metadata": {},
   "outputs": [
    {
     "name": "stdout",
     "output_type": "stream",
     "text": [
      "You are not allowed to sit in exam\n"
     ]
    }
   ],
   "source": [
    "classes_attended = int(input(\"Enter the Numbers Of Classes Attended\"))\n",
    "classes_held = int(input(\"Enter the Numbers Of Classes Held\"))\n",
    "total_class = int((classes_attended / classes_held) * 100)\n",
    "\n",
    "if total_class >= 75:\n",
    "    print(\"You are allowed to sit in exam\")\n",
    "else:\n",
    "    print(\"You are not allowed to sit in exam\")"
   ]
  },
  {
   "cell_type": "markdown",
   "metadata": {},
   "source": [
    "15) Modify the above question to allow student to sit if he/she has medical cause. Ask user if he/she has medical cause or not ( 'Y' or 'N' ) and print accordingly."
   ]
  },
  {
   "cell_type": "code",
   "execution_count": null,
   "metadata": {},
   "outputs": [],
   "source": [
    "classes_attended1 = int(input(\"Enter the Numbers Of Classes Attended: \"))\n",
    "classes_held1 = int(input(\"Enter the Numbers Of Classes Held: \"))\n",
    "total_class1 = int((classes_attended1 / classes_held1) * 100)\n",
    "\n",
    "if total_class1 >= 75:\n",
    "    print(\"You are allowed to sit in exam\")\n",
    "else:\n",
    "    cause = input(\"medical cause? 'Y' or 'N': \")\n",
    "    if cause == \"Y\": print(\"You are allowed to sit in exam\")\n",
    "    else:print(\"You are not allowed to sit in exam\")"
   ]
  },
  {
   "cell_type": "markdown",
   "metadata": {},
   "source": [
    "16) Write a program to check if a year is leap year or not.\n",
    "\n",
    "If a year is divisible by 4 then it is leap year but if the year is century year like 2000, 1900, 2100 then it must be divisible by 400."
   ]
  },
  {
   "cell_type": "code",
   "execution_count": null,
   "metadata": {},
   "outputs": [],
   "source": [
    "year = int(input(\"Enter any Year: \"))\n",
    "new = 0\n",
    "if year == 1900 or year == 2000 or year == 2100:\n",
    "    new = year%400\n",
    "    if new == 0: print(\"it is leap year\")\n",
    "    else:print(\"it is not leap year\")\n",
    "else:\n",
    "    new = year%4\n",
    "    if new == 0: print(\"it is leap year\")\n",
    "    else:print(\"it is not leap year\")"
   ]
  },
  {
   "cell_type": "markdown",
   "metadata": {},
   "source": [
    "17) Ask user to enter age, gender ( M or F ), marital status ( Y or N ) and then using following rules print their place of service.\n",
    "\n",
    "if employee is female, then she will work only in urban areas.\n",
    "\n",
    "if employee is a male and age is in between 20 to 40 then he may work in anywhere\n",
    "\n",
    "if employee is male and age is in between 40 t0 60 then he will work in urban areas only.\n",
    "\n",
    "And any other input of age should print \"ERROR\""
   ]
  },
  {
   "cell_type": "code",
   "execution_count": null,
   "metadata": {},
   "outputs": [],
   "source": [
    "user_age = int(input(\"Enter Your Age\"))\n",
    "user_gender = input(\"Enter Your Gender && M or F\")\n",
    "user_m_status = input(\"Enter Your Marital Status && Y or N\")\n",
    "if user_gender == \"F\":\n",
    "    print(\"you can work only in urban areas\")\n",
    "elif (user_gender == \"M\") and (user_age >= 20 and user_age < 40):\n",
    "    print(\"You can work anywhere\")\n",
    "elif (user_gender == \"M\") and (user_age >= 40 and user_age < 60):\n",
    "    print(\"You can work anywhere\")\n",
    "else:\n",
    "    print(\"Error\")"
   ]
  },
  {
   "cell_type": "markdown",
   "metadata": {},
   "source": [
    "6) Write a program to calculate the electricity bill (accept number of unit from user) according to the following criteria :\n",
    "     Unit                                                     Price  \n",
    "uptp 100 units                                             no charge\n",
    "Next 200 units                                              Rs 5 per unit\n",
    "After 200 units                                             Rs 10 per unit\n",
    "(For example if input unit is 350 than total bill amount is Rs.3500\n",
    "(For example if input unit is 97 than total bill amount is Rs.0\n",
    "(For example if input unit is 150 than total bill amount is Rs.750"
   ]
  },
  {
   "cell_type": "code",
   "execution_count": null,
   "metadata": {},
   "outputs": [],
   "source": [
    "units = int(input(\"Enter Your Units: \"))\n",
    "if units >=0 and units <=100:\n",
    "    print(\"Total bill amount is Rs.0\")\n",
    "elif units >=101 and units <=200:\n",
    "    print(f\"Total bill amount is Rs.{int(units*5)}\")\n",
    "else:\n",
    "    print(f\"Total bill amount is Rs.{int(units*10)}\")"
   ]
  },
  {
   "cell_type": "markdown",
   "metadata": {},
   "source": [
    "13) Take input of age of 3 people by user and determine oldest and youngest among them."
   ]
  },
  {
   "cell_type": "code",
   "execution_count": null,
   "metadata": {},
   "outputs": [],
   "source": [
    "age_1 = int(input(\"Enter Your Age: \"))\n",
    "age_2 = int(input(\"Enter Your Age: \"))\n",
    "age_3 = int(input(\"Enter Your Age: \"))\n",
    "\n",
    "if age_1 >= age_2 and age_1 >= age_3:\n",
    "    oldest_age = age_1\n",
    "elif age_2 >= age_1 and age_2 >= age_3:\n",
    "    oldest_age = age_2\n",
    "else:\n",
    "    oldest_age = age_3\n",
    "\n",
    "if age_1 <= age_2 and age_1 <= age_3:\n",
    "    youngest_age = age_1\n",
    "elif age_2 <= age_1 and age_2 <= age_3:\n",
    "    youngest_age = age_2\n",
    "else:\n",
    "    youngest_age = age_3\n",
    "\n",
    "print(f\"the oldest age is {oldest_age}\")\n",
    "print(f\"the youngest age is {youngest_age}\")"
   ]
  }
 ],
 "metadata": {
  "kernelspec": {
   "display_name": "base",
   "language": "python",
   "name": "python3"
  },
  "language_info": {
   "codemirror_mode": {
    "name": "ipython",
    "version": 3
   },
   "file_extension": ".py",
   "mimetype": "text/x-python",
   "name": "python",
   "nbconvert_exporter": "python",
   "pygments_lexer": "ipython3",
   "version": "3.12.7"
  }
 },
 "nbformat": 4,
 "nbformat_minor": 4
}
