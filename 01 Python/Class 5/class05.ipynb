{
 "cells": [
  {
   "cell_type": "markdown",
   "id": "c204c594-80d0-4946-83d5-22217332caed",
   "metadata": {},
   "source": [
    "# Python Programming - Class 05\n",
    "- #### While Loops\n",
    "- #### Classes\n",
    "- #### File Handling"
   ]
  },
  {
   "cell_type": "markdown",
   "id": "0734c333-2d29-4ccf-acb2-d3236ca818f9",
   "metadata": {},
   "source": [
    "**While Loop** \n",
    "\n",
    "In the while loop we don't know how many iterations the loop will continue\n"
   ]
  },
  {
   "cell_type": "code",
   "execution_count": 3,
   "id": "100dc474-ebdb-4cc7-a81f-a3491d72e728",
   "metadata": {},
   "outputs": [
    {
     "name": "stdout",
     "output_type": "stream",
     "text": [
      "0\n",
      "1\n",
      "2\n",
      "3\n",
      "4\n",
      "5\n",
      "6\n",
      "7\n",
      "8\n"
     ]
    }
   ],
   "source": [
    "i = 0\n",
    "while i < 9:\n",
    "    print(i)\n",
    "    i+=1"
   ]
  },
  {
   "cell_type": "code",
   "execution_count": 16,
   "id": "1e426813-88d7-4cc8-a32d-461e35258698",
   "metadata": {},
   "outputs": [
    {
     "name": "stdin",
     "output_type": "stream",
     "text": [
      "Enter a city name or \"q\" to exit the program:  Karachi\n"
     ]
    },
    {
     "name": "stdout",
     "output_type": "stream",
     "text": [
      "Karachi \n",
      "\n"
     ]
    },
    {
     "name": "stdin",
     "output_type": "stream",
     "text": [
      "Enter a city name or \"q\" to exit the program:  Islamabad\n"
     ]
    },
    {
     "name": "stdout",
     "output_type": "stream",
     "text": [
      "Islamabad \n",
      "\n"
     ]
    },
    {
     "name": "stdin",
     "output_type": "stream",
     "text": [
      "Enter a city name or \"q\" to exit the program:  Berlin\n"
     ]
    },
    {
     "name": "stdout",
     "output_type": "stream",
     "text": [
      "Berlin \n",
      "\n"
     ]
    },
    {
     "name": "stdin",
     "output_type": "stream",
     "text": [
      "Enter a city name or \"q\" to exit the program:  0\n"
     ]
    },
    {
     "name": "stdout",
     "output_type": "stream",
     "text": [
      "Program Finished as User Entered \"q\" or \"0\"\n",
      "['Karachi', 'Islamabad', 'Berlin']\n"
     ]
    }
   ],
   "source": [
    "user_input = \"\"\n",
    "cities = []\n",
    "while user_input != 'q' and user_input != '0': # while True it will run\n",
    "    user_input = input('Enter a city name or \"q\" or \"0\" to exit the program: ')\n",
    "    if (user_input != 'q') and (user_input != '0'):\n",
    "        cities.append(user_input)\n",
    "        print(user_input,'\\n')\n",
    "print('Program Finished as User Entered \"q\" or \"0\"')\n",
    "print(cities)"
   ]
  },
  {
   "cell_type": "markdown",
   "id": "83de19c5-ed3f-4c6a-80e3-31964b15fe1a",
   "metadata": {},
   "source": [
    "**Classes**\n",
    "\n",
    "Classes is a group of functions that can be shared with other classes as well and have enhance varaible security.- "
   ]
  },
  {
   "cell_type": "code",
   "execution_count": 10,
   "id": "cdc20043-bb5b-49eb-913e-cc625e751bf1",
   "metadata": {},
   "outputs": [],
   "source": [
    "class saylani():\n",
    "    def __init__(self, students):\n",
    "        self.students = students"
   ]
  },
  {
   "cell_type": "code",
   "execution_count": 14,
   "id": "cb5fe018-3d88-43cb-83d1-c7b6cf477387",
   "metadata": {},
   "outputs": [
    {
     "name": "stdout",
     "output_type": "stream",
     "text": [
      "80\n"
     ]
    }
   ],
   "source": [
    "obj = saylani(80)\n",
    "print(obj.students)"
   ]
  },
  {
   "cell_type": "code",
   "execution_count": 15,
   "id": "8e66c8ed-e45c-436d-ae7c-5d083f19e275",
   "metadata": {},
   "outputs": [],
   "source": [
    "class smit():\n",
    "    def __init__(self, name, course, students, months):\n",
    "        self.name = name\n",
    "        self.course = course\n",
    "        self.students = students\n",
    "        self.months = months\n",
    "\n",
    "    def sent(name, course):\n",
    "        print(f'{name} is teaching {course} at Saylani')"
   ]
  },
  {
   "cell_type": "code",
   "execution_count": 22,
   "id": "cd2f5598-77ea-48a5-a509-7721e2091ab9",
   "metadata": {},
   "outputs": [
    {
     "name": "stdout",
     "output_type": "stream",
     "text": [
      "Uzair is teaching CDE at Saylani\n",
      "None\n"
     ]
    }
   ],
   "source": [
    "obj = smit('Uzair', 'CDE', 150, 8)\n",
    "print(smit.sent('Uzair','CDE'))"
   ]
  },
  {
   "cell_type": "code",
   "execution_count": 23,
   "id": "2d53626e-8e83-4179-82aa-a965b6c49f19",
   "metadata": {},
   "outputs": [
    {
     "name": "stdout",
     "output_type": "stream",
     "text": [
      "Requirement already satisfied: scikit-learn in c:\\users\\smit\\anaconda3\\lib\\site-packages (1.5.1)\n",
      "Requirement already satisfied: numpy>=1.19.5 in c:\\users\\smit\\anaconda3\\lib\\site-packages (from scikit-learn) (1.26.4)\n",
      "Requirement already satisfied: scipy>=1.6.0 in c:\\users\\smit\\anaconda3\\lib\\site-packages (from scikit-learn) (1.13.1)\n",
      "Requirement already satisfied: joblib>=1.2.0 in c:\\users\\smit\\anaconda3\\lib\\site-packages (from scikit-learn) (1.4.2)\n",
      "Requirement already satisfied: threadpoolctl>=3.1.0 in c:\\users\\smit\\anaconda3\\lib\\site-packages (from scikit-learn) (3.5.0)\n"
     ]
    }
   ],
   "source": [
    "!pip install scikit-learn"
   ]
  },
  {
   "cell_type": "code",
   "execution_count": 31,
   "id": "34acb74f-7dc8-4fde-85ea-95914b242057",
   "metadata": {},
   "outputs": [],
   "source": [
    "from sklearn.datasets import load_iris\n",
    "data = load_iris()"
   ]
  },
  {
   "cell_type": "markdown",
   "id": "18c5881d-9bd4-4dfb-a74f-c3f72a21f14f",
   "metadata": {},
   "source": [
    "**File Handling**\n",
    "\n",
    "- \"r\" - Read - Default value. Opens a file for reading, error if the file does not exist\n",
    "- \"a\" - Append - Opens a file for appending, creates the file if it does not exist\n",
    "- \"w\" - Write - Opens a file for writing, creates the file if it does not exist\n",
    "- \"x\" - Create - Creates the specified file, returns an error if the file exists"
   ]
  },
  {
   "cell_type": "code",
   "execution_count": 37,
   "id": "1a432603-51fa-4b58-9b2b-a7192cdae332",
   "metadata": {},
   "outputs": [],
   "source": [
    "# writing in the file\n",
    "f = open('saylani.txt', 'w')\n",
    "f.write('We are writing in the file named as saylani.txt')\n",
    "f.close()"
   ]
  },
  {
   "cell_type": "code",
   "execution_count": 38,
   "id": "ff8430c6-0427-4d73-b62e-be90eaea5a75",
   "metadata": {},
   "outputs": [],
   "source": [
    "# appending in the file\n",
    "f = open('saylani.txt', 'a')\n",
    "f.write('We are adding another line in the file named as saylani.txt')\n",
    "f.close()"
   ]
  },
  {
   "cell_type": "code",
   "execution_count": 44,
   "id": "174ce73b-646a-4de8-9a40-f7b6edcbd9c4",
   "metadata": {},
   "outputs": [
    {
     "name": "stdout",
     "output_type": "stream",
     "text": [
      "We are writing in the file named as saylani.txtWe are adding another line in the file named as saylani.txt\n",
      "\n",
      "In all the coding so far in this book, none of the data has been preserved. We\n",
      "created variables, lists, dictionaries, and class instances that contained\n",
      "information, but as soon as the computer was turned off, all of it disappeared.\n",
      "You know how to save a word processing document or spreadsheet, but\n",
      "how do you save data processed by Python?\n",
      "It starts with a line of Python code:\n"
     ]
    }
   ],
   "source": [
    "# reading the file\n",
    "f = open('saylani.txt', 'r')\n",
    "data = f.read()\n",
    "print(data)"
   ]
  },
  {
   "cell_type": "code",
   "execution_count": 49,
   "id": "47bed8cf-624d-4455-90e8-e56dc00e28ae",
   "metadata": {},
   "outputs": [
    {
     "name": "stdout",
     "output_type": "stream",
     "text": [
      "We are writing in the file named as saylani.txtWe are adding another line in the file named as saylani.txt\n",
      "\n",
      "\n",
      "\n",
      "In all the coding so far in this book, none of the data has been preserved. We\n",
      "\n",
      "created variables, lists, dictionaries, and class instances that contained\n",
      "\n",
      "information, but as soon as the computer was turned off, all of it disappeared.\n",
      "\n",
      "You know how to save a word processing document or spreadsheet, but\n",
      "\n",
      "how do you save data processed by Python?\n",
      "\n",
      "It starts with a line of Python code:\n"
     ]
    }
   ],
   "source": [
    "# reading the file line wise\n",
    "f = open('saylani.txt', 'r')\n",
    "for i in f.readlines(): # readlines store data of each line as a new element in a list\n",
    "    print(i)\n",
    "\n"
   ]
  },
  {
   "cell_type": "code",
   "execution_count": 51,
   "id": "c7e15d40-5db0-4d3e-b8be-c69d82d2b046",
   "metadata": {},
   "outputs": [
    {
     "name": "stdout",
     "output_type": "stream",
     "text": [
      "We are writing in the file named as saylani.txtWe are adding another line in the file named as saylani.txt\n",
      "\n",
      "\n",
      "\n",
      "In all the coding so far in this book, none of the data has been preserved. We\n",
      "\n"
     ]
    }
   ],
   "source": [
    "# reading the file line wise\n",
    "f = open('saylani.txt', 'r')\n",
    "print(f.readline()) # readline get data line by line\n",
    "print(f.readline()) # readline get data line by line\n",
    "print(f.readline()) # readline get data line by line"
   ]
  },
  {
   "cell_type": "code",
   "execution_count": 52,
   "id": "4b1b3a60-ca0d-454a-b65d-1d7c3d2b43fd",
   "metadata": {},
   "outputs": [],
   "source": [
    "with open('saylani.txt', 'a') as f:\n",
    "    f.write('\\nWriting a line while using with operations')"
   ]
  },
  {
   "cell_type": "code",
   "execution_count": 54,
   "id": "1e7965a4-d57d-433c-a2eb-e25430d770a5",
   "metadata": {},
   "outputs": [
    {
     "name": "stdout",
     "output_type": "stream",
     "text": [
      "We are writing in the file named as saylani.txtWe are adding another line in the file named as saylani.txt\n",
      "\n",
      "In all the coding so far in this book, none of the data has been preserved. We\n",
      "created variables, lists, dictionaries, and class instances that contained\n",
      "information, but as soon as the computer was turned off, all of it disappeared.\n",
      "You know how to save a word processing document or spreadsheet, but\n",
      "how do you save data processed by Python?\n",
      "It starts with a line of Python code:\n",
      "Writing a line while using with operations\n"
     ]
    }
   ],
   "source": [
    "with open('saylani.txt', 'r') as f:\n",
    "    print(f.read())"
   ]
  },
  {
   "cell_type": "code",
   "execution_count": 55,
   "id": "d7c40d42-d390-47dc-b9aa-2c7630e585b3",
   "metadata": {},
   "outputs": [],
   "source": [
    "import os\n",
    "os.remove('saylani.docx')"
   ]
  },
  {
   "cell_type": "code",
   "execution_count": 57,
   "id": "1b12e10b-dbc6-4cb1-9927-fcf01d870a54",
   "metadata": {},
   "outputs": [
    {
     "data": {
      "text/plain": [
       "['.ipynb_checkpoints', 'class05.ipynb', 'saylani.txt']"
      ]
     },
     "execution_count": 57,
     "metadata": {},
     "output_type": "execute_result"
    }
   ],
   "source": [
    "os.listdir()"
   ]
  },
  {
   "cell_type": "code",
   "execution_count": 58,
   "id": "b455c9c5-2302-4c9a-a1cf-3dfa50793509",
   "metadata": {},
   "outputs": [
    {
     "name": "stdout",
     "output_type": "stream",
     "text": [
      "542\n"
     ]
    }
   ],
   "source": [
    "with open('saylani.txt', 'r') as f:\n",
    "    print(len(f.read()))"
   ]
  },
  {
   "cell_type": "markdown",
   "id": "42e121c2-dbd1-40e6-b3f9-3c8d2e4f71b4",
   "metadata": {},
   "source": [
    "**Exception Handling**\n",
    "\n",
    "Generating custom error messages and options incase of an error"
   ]
  },
  {
   "cell_type": "code",
   "execution_count": 85,
   "id": "199e67da-d6b3-4745-a953-86efafae1e1f",
   "metadata": {},
   "outputs": [
    {
     "name": "stdout",
     "output_type": "stream",
     "text": [
      "You are not following proper guidelines, error\n",
      "Program Completed\n"
     ]
    }
   ],
   "source": [
    "dict = {}\n",
    "try:\n",
    "    print(dict['name'])\n",
    "except ZeroDivisionError: # will execute in case of specified errors only\n",
    "    print('You are dividing number by zero which is not possible.\\nKindly re run the code!!!')\n",
    "except: # will excute for all errors\n",
    "    print('You are not following proper guidelines, error')\n",
    "else: # will execute if there is no error\n",
    "    print(\"Error\")\n",
    "finally: # will always execute whether there is an error or not\n",
    "    print('Program Completed')"
   ]
  },
  {
   "cell_type": "code",
   "execution_count": 83,
   "id": "de304bab-80a6-4dcb-8919-87c3b5d17f35",
   "metadata": {},
   "outputs": [
    {
     "name": "stdout",
     "output_type": "stream",
     "text": [
      "Hello\n",
      "Nothing went wrong\n"
     ]
    }
   ],
   "source": [
    "try:\n",
    "  print(\"Hello\")\n",
    "except:\n",
    "  print(\"Something went wrong\")\n",
    "else:\n",
    "  print(\"Nothing went wrong\")"
   ]
  },
  {
   "cell_type": "code",
   "execution_count": 88,
   "id": "96fbf7ce-ba98-4966-b634-65569aa74a58",
   "metadata": {},
   "outputs": [
    {
     "ename": "NameError",
     "evalue": "name 'MyEoor' is not defined",
     "output_type": "error",
     "traceback": [
      "\u001b[1;31m---------------------------------------------------------------------------\u001b[0m",
      "\u001b[1;31mNameError\u001b[0m                                 Traceback (most recent call last)",
      "Cell \u001b[1;32mIn[88], line 5\u001b[0m\n\u001b[0;32m      2\u001b[0m i \u001b[38;5;241m=\u001b[39m \u001b[38;5;241m-\u001b[39m\u001b[38;5;241m2\u001b[39m\n\u001b[0;32m      4\u001b[0m \u001b[38;5;28;01mif\u001b[39;00m i\u001b[38;5;241m<\u001b[39m\u001b[38;5;241m0\u001b[39m:\n\u001b[1;32m----> 5\u001b[0m     \u001b[38;5;28;01mraise\u001b[39;00m \u001b[43mMyEoor\u001b[49m(\u001b[38;5;124m'\u001b[39m\u001b[38;5;124mKindly enter value greater than zero\u001b[39m\u001b[38;5;124m'\u001b[39m)\n",
      "\u001b[1;31mNameError\u001b[0m: name 'MyEoor' is not defined"
     ]
    }
   ],
   "source": [
    "# Raise an exepctions\n",
    "i = -2\n",
    "\n",
    "if i<0:\n",
    "    raise MyEoor('Kindly enter value greater than zero')"
   ]
  },
  {
   "cell_type": "code",
   "execution_count": null,
   "id": "ec2c98b0-646f-4245-9c16-6245698f442e",
   "metadata": {},
   "outputs": [],
   "source": []
  }
 ],
 "metadata": {
  "kernelspec": {
   "display_name": "Python 3 (ipykernel)",
   "language": "python",
   "name": "python3"
  },
  "language_info": {
   "codemirror_mode": {
    "name": "ipython",
    "version": 3
   },
   "file_extension": ".py",
   "mimetype": "text/x-python",
   "name": "python",
   "nbconvert_exporter": "python",
   "pygments_lexer": "ipython3",
   "version": "3.12.7"
  }
 },
 "nbformat": 4,
 "nbformat_minor": 5
}
