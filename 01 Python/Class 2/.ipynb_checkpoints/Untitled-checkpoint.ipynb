{
 "cells": [
  {
   "cell_type": "code",
   "execution_count": 1,
   "id": "b4e86cb3-a3a7-4a24-ae97-a157e4d1b0e9",
   "metadata": {},
   "outputs": [],
   "source": [
    "isRamadan = True"
   ]
  },
  {
   "cell_type": "code",
   "execution_count": 2,
   "id": "ca81ab78-825f-4ba5-ae20-b8d85d41c398",
   "metadata": {},
   "outputs": [
    {
     "name": "stdout",
     "output_type": "stream",
     "text": [
      "Timing: 10:00 to 1:00 PM\n"
     ]
    }
   ],
   "source": [
    "if isRamadan:\n",
    "    print(\"Timing: 10:00 to 1:00 PM\")\n",
    "else:\n",
    "    print(\"Timing: 06:00 to 9:00 PM\")"
   ]
  },
  {
   "cell_type": "code",
   "execution_count": 7,
   "id": "11057a4f-23ab-41f7-a181-8d3da47db6cf",
   "metadata": {},
   "outputs": [],
   "source": [
    "is_eligible = True"
   ]
  },
  {
   "cell_type": "code",
   "execution_count": 8,
   "id": "ef5ba3c5-37f9-4e1d-b5b9-608c1f32c01e",
   "metadata": {},
   "outputs": [
    {
     "name": "stdout",
     "output_type": "stream",
     "text": [
      "You Are Eligible\n"
     ]
    }
   ],
   "source": [
    "if is_eligible:\n",
    "    print(\"You Are Eligible\")\n",
    "else:\n",
    "    print(\"not eligible\")"
   ]
  },
  {
   "cell_type": "code",
   "execution_count": 13,
   "id": "5d2afde4-deb1-4ced-8cb3-918688236d10",
   "metadata": {},
   "outputs": [
    {
     "name": "stdout",
     "output_type": "stream",
     "text": [
      "You Are Eligible\n"
     ]
    }
   ],
   "source": [
    "age = 20\n",
    "if age >= 18:\n",
    "    print(\"You Are Eligible\")\n",
    "else:\n",
    "    print(\"not eligible\")"
   ]
  },
  {
   "cell_type": "code",
   "execution_count": 32,
   "id": "5a38e171-11ae-4240-8b48-d263ea00c4f2",
   "metadata": {},
   "outputs": [
    {
     "name": "stdin",
     "output_type": "stream",
     "text": [
      "Enter your Marks 70\n"
     ]
    }
   ],
   "source": [
    "marks = int(input(\"Enter your Marks\"))"
   ]
  },
  {
   "cell_type": "code",
   "execution_count": 33,
   "id": "f25b529f-554f-4ecb-ad33-8fead1145d3a",
   "metadata": {},
   "outputs": [
    {
     "name": "stdout",
     "output_type": "stream",
     "text": [
      "Grade B\n"
     ]
    }
   ],
   "source": [
    "if marks > 80 and marks <= 100:\n",
    "    print(\"Grade A\")\n",
    "elif marks > 60 and marks <= 80:\n",
    "    print(\"Grade B\")\n",
    "elif marks > 50 and marks <= 60:\n",
    "    print(\"Grade C\")\n",
    "elif marks > 45 and marks <= 50:\n",
    "    print(\"Grade D\")\n",
    "elif marks > 25 and marks <= 45:\n",
    "    print(\"Grade E\")\n",
    "elif marks > 0 and marks <= 25:\n",
    "    print(\"Grade F\")\n",
    "else:\n",
    "    print(\"Invalid Input\")\n"
   ]
  },
  {
   "cell_type": "code",
   "execution_count": 54,
   "id": "ffb8a16c-5197-4e36-92c7-3f63514743cc",
   "metadata": {},
   "outputs": [
    {
     "name": "stdin",
     "output_type": "stream",
     "text": [
      "Enter Your Age 25\n",
      "Enter Your Gender && M or F M\n"
     ]
    },
    {
     "name": "stdout",
     "output_type": "stream",
     "text": [
      "You can work anywhere\n"
     ]
    }
   ],
   "source": [
    "user_age = int(input(\"Enter Your Age\"))\n",
    "user_gender = input(\"Enter Your Gender && M or F\")\n",
    "# user_m_status = input(\"Enter Your Marital Status && Y or N\")\n",
    "if user_gender == \"F\":\n",
    "    print(\"you can work only in urban areas\")\n",
    "elif (user_gender == \"M\") and (user_age >= 20 and user_age < 40):\n",
    "    print(\"You can work anywhere\")\n",
    "elif (user_gender == \"M\") and (user_age >= 40 and user_age < 60):\n",
    "    print(\"You can work anywhere\")\n",
    "else:\n",
    "    print(\"Error\")"
   ]
  },
  {
   "cell_type": "code",
   "execution_count": 51,
   "id": "33b30703-fd52-4da6-be39-368f28d817ce",
   "metadata": {},
   "outputs": [],
   "source": []
  },
  {
   "cell_type": "code",
   "execution_count": null,
   "id": "7343226c-2b44-498c-a2de-39299013f7d7",
   "metadata": {},
   "outputs": [],
   "source": []
  }
 ],
 "metadata": {
  "kernelspec": {
   "display_name": "Python 3 (ipykernel)",
   "language": "python",
   "name": "python3"
  },
  "language_info": {
   "codemirror_mode": {
    "name": "ipython",
    "version": 3
   },
   "file_extension": ".py",
   "mimetype": "text/x-python",
   "name": "python",
   "nbconvert_exporter": "python",
   "pygments_lexer": "ipython3",
   "version": "3.12.7"
  }
 },
 "nbformat": 4,
 "nbformat_minor": 5
}
