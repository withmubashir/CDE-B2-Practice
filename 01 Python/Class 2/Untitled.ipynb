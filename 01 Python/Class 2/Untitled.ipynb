{
 "cells": [
  {
   "cell_type": "code",
   "execution_count": 1,
   "id": "b4e86cb3-a3a7-4a24-ae97-a157e4d1b0e9",
   "metadata": {},
   "outputs": [],
   "source": [
    "isRamadan = True"
   ]
  },
  {
   "cell_type": "code",
   "execution_count": 2,
   "id": "ca81ab78-825f-4ba5-ae20-b8d85d41c398",
   "metadata": {},
   "outputs": [
    {
     "name": "stdout",
     "output_type": "stream",
     "text": [
      "Timing: 10:00 to 1:00 PM\n"
     ]
    }
   ],
   "source": [
    "if isRamadan:\n",
    "    print(\"Timing: 10:00 to 1:00 PM\")\n",
    "else:\n",
    "    print(\"Timing: 06:00 to 9:00 PM\")"
   ]
  },
  {
   "cell_type": "code",
   "execution_count": 7,
   "id": "11057a4f-23ab-41f7-a181-8d3da47db6cf",
   "metadata": {},
   "outputs": [],
   "source": [
    "is_eligible = True"
   ]
  },
  {
   "cell_type": "code",
   "execution_count": 8,
   "id": "ef5ba3c5-37f9-4e1d-b5b9-608c1f32c01e",
   "metadata": {},
   "outputs": [
    {
     "name": "stdout",
     "output_type": "stream",
     "text": [
      "You Are Eligible\n"
     ]
    }
   ],
   "source": [
    "if is_eligible:\n",
    "    print(\"You Are Eligible\")\n",
    "else:\n",
    "    print(\"not eligible\")"
   ]
  },
  {
   "cell_type": "code",
   "execution_count": 13,
   "id": "5d2afde4-deb1-4ced-8cb3-918688236d10",
   "metadata": {},
   "outputs": [
    {
     "name": "stdout",
     "output_type": "stream",
     "text": [
      "You Are Eligible\n"
     ]
    }
   ],
   "source": [
    "age = 20\n",
    "if age >= 18:\n",
    "    print(\"You Are Eligible\")\n",
    "else:\n",
    "    print(\"not eligible\")"
   ]
  },
  {
   "cell_type": "code",
   "execution_count": 21,
   "id": "5a38e171-11ae-4240-8b48-d263ea00c4f2",
   "metadata": {},
   "outputs": [],
   "source": [
    "Marks = 20"
   ]
  },
  {
   "cell_type": "code",
   "execution_count": 22,
   "id": "f25b529f-554f-4ecb-ad33-8fead1145d3a",
   "metadata": {},
   "outputs": [
    {
     "name": "stdout",
     "output_type": "stream",
     "text": [
      "Grade F\n"
     ]
    }
   ],
   "source": [
    "if Marks > 80:\n",
    "    print(\"Grade A\")\n",
    "elif Marks > 60:\n",
    "    print(\"Grade B\")\n",
    "elif Marks > 50:\n",
    "    print(\"Grade C\")\n",
    "elif Marks > 45:\n",
    "    print(\"Grade D\")\n",
    "elif Marks > 25:\n",
    "    print(\"Grade D\")\n",
    "else:\n",
    "    print(\"Grade F\")\n"
   ]
  },
  {
   "cell_type": "code",
   "execution_count": null,
   "id": "ffb8a16c-5197-4e36-92c7-3f63514743cc",
   "metadata": {},
   "outputs": [],
   "source": []
  }
 ],
 "metadata": {
  "kernelspec": {
   "display_name": "Python 3 (ipykernel)",
   "language": "python",
   "name": "python3"
  },
  "language_info": {
   "codemirror_mode": {
    "name": "ipython",
    "version": 3
   },
   "file_extension": ".py",
   "mimetype": "text/x-python",
   "name": "python",
   "nbconvert_exporter": "python",
   "pygments_lexer": "ipython3",
   "version": "3.12.7"
  }
 },
 "nbformat": 4,
 "nbformat_minor": 5
}
