{
 "cells": [
  {
   "cell_type": "markdown",
   "id": "3a52dfc3-ceaf-41e1-87f2-4a8c98aefd56",
   "metadata": {},
   "source": [
    "### Recap"
   ]
  },
  {
   "cell_type": "code",
   "execution_count": 1,
   "id": "56352388-bcdb-4a83-8823-7e3a23a2aaa9",
   "metadata": {},
   "outputs": [],
   "source": [
    "cities = [ 'Karachi', 'islamabad', 'lahore', 'quetta', 'Karachi']"
   ]
  },
  {
   "cell_type": "code",
   "execution_count": 2,
   "id": "95d4032f-abca-41f5-9b0e-c7258d4bb033",
   "metadata": {},
   "outputs": [
    {
     "data": {
      "text/plain": [
       "['Karachi', 'islamabad', 'lahore', 'quetta', 'Karachi']"
      ]
     },
     "execution_count": 2,
     "metadata": {},
     "output_type": "execute_result"
    }
   ],
   "source": [
    "cities"
   ]
  },
  {
   "cell_type": "code",
   "execution_count": 3,
   "id": "2b235d06-0a22-4cbd-b12b-1e2c981530cb",
   "metadata": {},
   "outputs": [],
   "source": [
    "cities.append('Multan') # mutuable"
   ]
  },
  {
   "cell_type": "code",
   "execution_count": 4,
   "id": "53eeb46f-a071-473b-9602-83f1410371c6",
   "metadata": {},
   "outputs": [
    {
     "data": {
      "text/plain": [
       "['Karachi', 'islamabad', 'lahore', 'quetta', 'Karachi', 'Multan']"
      ]
     },
     "execution_count": 4,
     "metadata": {},
     "output_type": "execute_result"
    }
   ],
   "source": [
    "cities"
   ]
  },
  {
   "cell_type": "markdown",
   "id": "ea73c677-c089-4575-95c3-31b5608e3c3b",
   "metadata": {},
   "source": [
    "### Set"
   ]
  },
  {
   "cell_type": "code",
   "execution_count": 5,
   "id": "05d237aa-6b4d-45db-9401-3cfcfcde19e9",
   "metadata": {},
   "outputs": [],
   "source": [
    "cities_set = set(cities)"
   ]
  },
  {
   "cell_type": "code",
   "execution_count": 6,
   "id": "341d615a-46a3-4471-8b51-46eafb170407",
   "metadata": {},
   "outputs": [
    {
     "data": {
      "text/plain": [
       "{'Karachi', 'Multan', 'islamabad', 'lahore', 'quetta'}"
      ]
     },
     "execution_count": 6,
     "metadata": {},
     "output_type": "execute_result"
    }
   ],
   "source": [
    "cities_set # set contains only distinct values"
   ]
  },
  {
   "cell_type": "code",
   "execution_count": 7,
   "id": "2f4383c0-3280-40e4-a177-2156eb42e166",
   "metadata": {},
   "outputs": [
    {
     "ename": "AttributeError",
     "evalue": "'set' object has no attribute 'app'",
     "output_type": "error",
     "traceback": [
      "\u001b[1;31m---------------------------------------------------------------------------\u001b[0m",
      "\u001b[1;31mAttributeError\u001b[0m                            Traceback (most recent call last)",
      "Cell \u001b[1;32mIn[7], line 1\u001b[0m\n\u001b[1;32m----> 1\u001b[0m \u001b[43mcities_set\u001b[49m\u001b[38;5;241;43m.\u001b[39;49m\u001b[43mapp\u001b[49m \u001b[38;5;66;03m#sets are not mutable (immutable)\u001b[39;00m\n",
      "\u001b[1;31mAttributeError\u001b[0m: 'set' object has no attribute 'app'"
     ]
    }
   ],
   "source": [
    "cities_set.app #sets are not mutable (immutable)"
   ]
  },
  {
   "cell_type": "code",
   "execution_count": 8,
   "id": "8c4d266c-3f50-442e-b69a-7d808bf0d8f2",
   "metadata": {},
   "outputs": [
    {
     "ename": "TypeError",
     "evalue": "'set' object is not subscriptable",
     "output_type": "error",
     "traceback": [
      "\u001b[1;31m---------------------------------------------------------------------------\u001b[0m",
      "\u001b[1;31mTypeError\u001b[0m                                 Traceback (most recent call last)",
      "Cell \u001b[1;32mIn[8], line 1\u001b[0m\n\u001b[1;32m----> 1\u001b[0m \u001b[43mcities_set\u001b[49m\u001b[43m[\u001b[49m\u001b[43m:\u001b[49m\u001b[43m]\u001b[49m\n",
      "\u001b[1;31mTypeError\u001b[0m: 'set' object is not subscriptable"
     ]
    }
   ],
   "source": [
    "cities_set[:]"
   ]
  },
  {
   "cell_type": "markdown",
   "id": "0a8867b6-c911-4f66-bafc-8a5ae59f3932",
   "metadata": {},
   "source": [
    "### loops (for)"
   ]
  },
  {
   "cell_type": "code",
   "execution_count": 9,
   "id": "8b00d4f3-e68e-4e01-b5e3-9046ed8663f4",
   "metadata": {},
   "outputs": [
    {
     "data": {
      "text/plain": [
       "['Karachi', 'islamabad', 'lahore', 'quetta', 'Karachi', 'Multan']"
      ]
     },
     "execution_count": 9,
     "metadata": {},
     "output_type": "execute_result"
    }
   ],
   "source": [
    "cities"
   ]
  },
  {
   "cell_type": "code",
   "execution_count": 10,
   "id": "f441c105-c0a9-4a39-8727-8e70d9e5adfb",
   "metadata": {},
   "outputs": [
    {
     "name": "stdout",
     "output_type": "stream",
     "text": [
      "Karachi\n",
      "islamabad\n",
      "lahore\n",
      "quetta\n",
      "Karachi\n",
      "Multan\n"
     ]
    }
   ],
   "source": [
    "for temp in cities:\n",
    "    # print(\"ok\")\n",
    "    print(temp)"
   ]
  },
  {
   "cell_type": "code",
   "execution_count": 11,
   "id": "d527c51f-01e6-4f2c-ba1d-62c01d7a1a47",
   "metadata": {},
   "outputs": [
    {
     "name": "stdout",
     "output_type": "stream",
     "text": [
      "0\n",
      "1\n",
      "2\n",
      "3\n",
      "4\n",
      "5\n",
      "6\n"
     ]
    }
   ],
   "source": [
    "for temp in [0, 1,2,3,4,5,6]:\n",
    "    print(temp)\n",
    "    "
   ]
  },
  {
   "cell_type": "code",
   "execution_count": 12,
   "id": "4e183711-a04d-428e-927c-efac0166495d",
   "metadata": {},
   "outputs": [
    {
     "data": {
      "text/plain": [
       "6"
      ]
     },
     "execution_count": 12,
     "metadata": {},
     "output_type": "execute_result"
    }
   ],
   "source": [
    "temp"
   ]
  },
  {
   "cell_type": "code",
   "execution_count": 13,
   "id": "7dbd80b5-0f28-4e9d-b2ff-3ebdb9f723c4",
   "metadata": {},
   "outputs": [
    {
     "name": "stdout",
     "output_type": "stream",
     "text": [
      "0\n",
      "1\n",
      "2\n",
      "3\n",
      "4\n",
      "5\n",
      "6\n",
      "7\n",
      "8\n",
      "9\n"
     ]
    }
   ],
   "source": [
    "for temp in range(10):\n",
    "    print(temp)"
   ]
  },
  {
   "cell_type": "markdown",
   "id": "4d845e44-a759-4242-afa5-47883eaf0894",
   "metadata": {},
   "source": [
    "TASK: Run a for loop in such a way that it run for the lenght of list `cities`"
   ]
  },
  {
   "cell_type": "code",
   "execution_count": 14,
   "id": "73049bac-985e-4b5e-9f48-c0b7e09cf3cd",
   "metadata": {},
   "outputs": [
    {
     "name": "stdout",
     "output_type": "stream",
     "text": [
      "0 index value is Karachi\n",
      "1 index value is islamabad\n",
      "2 index value is lahore\n",
      "3 index value is quetta\n",
      "4 index value is Karachi\n",
      "5 index value is Multan\n"
     ]
    }
   ],
   "source": [
    "for temp in range(len(cities)):\n",
    "    print(f\"{temp} index value is {cities[temp]}\")"
   ]
  },
  {
   "cell_type": "code",
   "execution_count": 15,
   "id": "10c871c1-3e6d-420c-bf7d-fb348081c291",
   "metadata": {},
   "outputs": [
    {
     "name": "stdout",
     "output_type": "stream",
     "text": [
      "[1, 2, 3]\n",
      "['a', 'b', 'c']\n",
      "['@', '#', '$']\n"
     ]
    }
   ],
   "source": [
    "for temp in [[1,2,3], ['a', 'b', 'c'], ['@', '#', '$']]:\n",
    "    print(temp)"
   ]
  },
  {
   "cell_type": "code",
   "execution_count": 16,
   "id": "24a9012a-3ec7-4572-97c7-d23715f73f96",
   "metadata": {},
   "outputs": [
    {
     "name": "stdout",
     "output_type": "stream",
     "text": [
      "[1, 2, 3]\n",
      "1\n",
      "2\n",
      "3\n",
      "['a', 'b', 'c']\n",
      "a\n",
      "b\n",
      "c\n",
      "['@', '#', '$']\n",
      "@\n",
      "#\n",
      "$\n"
     ]
    }
   ],
   "source": [
    "for temp in [[1,2,3], ['a', 'b', 'c'], ['@', '#', '$']]:\n",
    "    print(temp)\n",
    "    for n_temp in temp:\n",
    "        print(n_temp)"
   ]
  },
  {
   "cell_type": "markdown",
   "id": "ee6c601a-c2a6-40aa-bdaf-35a4985d2ab2",
   "metadata": {},
   "source": [
    "TASK: Write a pogram to print even numbers from 1 to 10:\n"
   ]
  },
  {
   "cell_type": "code",
   "execution_count": 17,
   "id": "88546fd2-7024-4a6f-888d-af72cfca66e6",
   "metadata": {},
   "outputs": [],
   "source": [
    "#     START, END, STEP\n",
    "#     range(1, 11, 2):"
   ]
  },
  {
   "cell_type": "code",
   "execution_count": 18,
   "id": "437fecd0-e639-41ea-a133-7266563697b1",
   "metadata": {},
   "outputs": [
    {
     "name": "stdout",
     "output_type": "stream",
     "text": [
      "2\n",
      "4\n",
      "6\n",
      "8\n",
      "10\n"
     ]
    }
   ],
   "source": [
    "for temp in range(1, 11):\n",
    "    if temp%2==0:\n",
    "        print(temp)"
   ]
  },
  {
   "attachments": {
    "87e17970-afa0-4aad-a6f1-6a9d4a5a590c.png": {
     "image/png": "[encoded data removed]"
    }
   },
   "cell_type": "markdown",
   "id": "a4f3c9fb-4948-4bea-855c-d5249f246007",
   "metadata": {},
   "source": [
    "![image.png](attachment:87e17970-afa0-4aad-a6f1-6a9d4a5a590c.png)"
   ]
  },
  {
   "cell_type": "code",
   "execution_count": 20,
   "id": "bd5b7785-0f3c-4aa6-bab9-adffd9ddf158",
   "metadata": {},
   "outputs": [
    {
     "name": "stdin",
     "output_type": "stream",
     "text": [
      "Enter a number:  10\n",
      "Enter a number:  15\n",
      "Enter a number:  35\n",
      "Enter a number:  40\n",
      "Enter a number:  50\n"
     ]
    },
    {
     "name": "stdout",
     "output_type": "stream",
     "text": [
      "The final running total is: 150\n"
     ]
    }
   ],
   "source": [
    "total= 0\n",
    "for temp in range(5):\n",
    "    value = int(input(\"Enter a number: \"))\n",
    "    total += value\n",
    "print(f\"The final running total is: {total}\")"
   ]
  },
  {
   "cell_type": "code",
   "execution_count": 19,
   "id": "dbbd08ad-85c0-402f-bfec-3d8c7d372c9e",
   "metadata": {},
   "outputs": [
    {
     "name": "stdout",
     "output_type": "stream",
     "text": [
      "Enter a Number :  10\n",
      "Enter a Number :  15\n",
      "Enter a Number :  20\n",
      "Enter a Number :  25\n",
      "Enter a Number :  30\n",
      "Enter a Number :  35\n",
      "Enter a Number :  40\n",
      "Enter a Number :  45\n",
      "\n",
      " The Final Running Total is  220\n"
     ]
    }
   ],
   "source": [
    "total=0\n",
    "for temp in range(10,50,5):\n",
    "    print(\"Enter a Number : \",temp)\n",
    "    total = total + temp\n",
    "print(\"\\n The Final Running Total is \", total)"
   ]
  },
  {
   "cell_type": "code",
   "execution_count": 21,
   "id": "08360fd1-5644-40a4-8dc9-2120087d00c3",
   "metadata": {},
   "outputs": [
    {
     "data": {
      "text/plain": [
       "'QASIM'"
      ]
     },
     "execution_count": 21,
     "metadata": {},
     "output_type": "execute_result"
    }
   ],
   "source": [
    "'qasim'.upper()"
   ]
  },
  {
   "cell_type": "code",
   "execution_count": 23,
   "id": "502cd29c-bc14-421a-a765-11b6efa480df",
   "metadata": {},
   "outputs": [
    {
     "data": {
      "text/plain": [
       "'qasim'"
      ]
     },
     "execution_count": 23,
     "metadata": {},
     "output_type": "execute_result"
    }
   ],
   "source": [
    "'QASIM'.lower()"
   ]
  },
  {
   "cell_type": "code",
   "execution_count": 24,
   "id": "b54465d9-36c4-4ca4-b7a8-677f7943e89d",
   "metadata": {},
   "outputs": [
    {
     "data": {
      "text/plain": [
       "'Qasim'"
      ]
     },
     "execution_count": 24,
     "metadata": {},
     "output_type": "execute_result"
    }
   ],
   "source": [
    "'QASIM'.title()"
   ]
  },
  {
   "cell_type": "code",
   "execution_count": 27,
   "id": "365ecfdd-b04c-4404-9ad4-8ca2871955c7",
   "metadata": {},
   "outputs": [
    {
     "name": "stdin",
     "output_type": "stream",
     "text": [
      "Enter a email:  QASIMKHAN123456@GMAIL.COM\n"
     ]
    },
    {
     "name": "stdout",
     "output_type": "stream",
     "text": [
      "valid email\n"
     ]
    }
   ],
   "source": [
    "db_email = 'qasimkhan123456@gmail.com'\n",
    "user_email = input(\"Enter a email: \")\n",
    "if user_email.lower() == db_email:\n",
    "    print(\"valid email\")\n",
    "else:\n",
    "    print('Not vlaid email')"
   ]
  },
  {
   "cell_type": "markdown",
   "id": "4157ea36-78a0-41b0-b50d-4745204918fd",
   "metadata": {},
   "source": [
    "### Dictionary"
   ]
  },
  {
   "cell_type": "code",
   "execution_count": 28,
   "id": "6f4c8146-20d3-4f5a-bf6b-ea49ee88fa2e",
   "metadata": {},
   "outputs": [
    {
     "data": {
      "text/plain": [
       "['Karachi', 'islamabad', 'lahore', 'quetta', 'Karachi', 'Multan']"
      ]
     },
     "execution_count": 28,
     "metadata": {},
     "output_type": "execute_result"
    }
   ],
   "source": [
    "cities"
   ]
  },
  {
   "cell_type": "code",
   "execution_count": 33,
   "id": "8deb0fac-c17a-4d0d-a9f5-bcbd02f2b629",
   "metadata": {},
   "outputs": [
    {
     "data": {
      "text/plain": [
       "'Karachi'"
      ]
     },
     "execution_count": 33,
     "metadata": {},
     "output_type": "execute_result"
    }
   ],
   "source": [
    "cities[0]"
   ]
  },
  {
   "cell_type": "code",
   "execution_count": 29,
   "id": "50388dd3-18c9-4dd4-aaaf-f23ec7e0311e",
   "metadata": {},
   "outputs": [
    {
     "data": {
      "text/plain": [
       "{'Karachi', 'Multan', 'islamabad', 'lahore', 'quetta'}"
      ]
     },
     "execution_count": 29,
     "metadata": {},
     "output_type": "execute_result"
    }
   ],
   "source": [
    "cities_set"
   ]
  },
  {
   "cell_type": "code",
   "execution_count": 30,
   "id": "a7fe4846-a852-44ef-8e72-c58057225e81",
   "metadata": {},
   "outputs": [],
   "source": [
    "bio_data_list = ['Qasim', 'Hassan', 15, 10.5]"
   ]
  },
  {
   "cell_type": "code",
   "execution_count": null,
   "id": "144f1567-8dc9-40db-8330-5a166fcaf3ed",
   "metadata": {},
   "outputs": [],
   "source": [
    "# {key : value}"
   ]
  },
  {
   "cell_type": "code",
   "execution_count": 31,
   "id": "e92be502-14f7-4e19-9c11-b08f9a6b28b5",
   "metadata": {},
   "outputs": [],
   "source": [
    "bio_data_dict = {'first_name': 'Qasim', # item1\n",
    "                 'last_name': 'Hassan', # item2\n",
    "                 'age':15,\n",
    "                 'weight':10.5}"
   ]
  },
  {
   "cell_type": "code",
   "execution_count": 34,
   "id": "149147a5-8719-4a06-ad38-0b56994d522c",
   "metadata": {},
   "outputs": [
    {
     "data": {
      "text/plain": [
       "'Qasim'"
      ]
     },
     "execution_count": 34,
     "metadata": {},
     "output_type": "execute_result"
    }
   ],
   "source": [
    "bio_data_dict['first_name']"
   ]
  },
  {
   "cell_type": "code",
   "execution_count": 35,
   "id": "442e31ca-637b-48bd-975e-e97430a45470",
   "metadata": {},
   "outputs": [
    {
     "data": {
      "text/plain": [
       "dict_keys(['first_name', 'last_name', 'age', 'weight'])"
      ]
     },
     "execution_count": 35,
     "metadata": {},
     "output_type": "execute_result"
    }
   ],
   "source": [
    "bio_data_dict.keys()"
   ]
  },
  {
   "cell_type": "code",
   "execution_count": 36,
   "id": "e2e68a99-a308-44fd-b198-5ad79b44dc79",
   "metadata": {},
   "outputs": [
    {
     "data": {
      "text/plain": [
       "dict_values(['Qasim', 'Hassan', 15, 10.5])"
      ]
     },
     "execution_count": 36,
     "metadata": {},
     "output_type": "execute_result"
    }
   ],
   "source": [
    "bio_data_dict.values()"
   ]
  },
  {
   "cell_type": "code",
   "execution_count": 37,
   "id": "e756bd72-bc15-4b2c-bd91-f833b6760c82",
   "metadata": {},
   "outputs": [
    {
     "data": {
      "text/plain": [
       "dict_items([('first_name', 'Qasim'), ('last_name', 'Hassan'), ('age', 15), ('weight', 10.5)])"
      ]
     },
     "execution_count": 37,
     "metadata": {},
     "output_type": "execute_result"
    }
   ],
   "source": [
    "bio_data_dict.items()"
   ]
  },
  {
   "cell_type": "markdown",
   "id": "c359dedc-75eb-4170-9a7f-876c5b1e599c",
   "metadata": {},
   "source": [
    "TASK: crete below output from the above dictionary\n",
    "\n",
    "- Key `first_name` have value `Qasim`\n",
    "- Key `last_name` have value `Hassan`\n",
    "- Key `age` have value `15`\n",
    "- Key `weight` have value `10.5`\n"
   ]
  },
  {
   "cell_type": "code",
   "execution_count": 43,
   "id": "919eeb51-39cc-4a49-b80b-8340b05ee9eb",
   "metadata": {},
   "outputs": [
    {
     "name": "stdout",
     "output_type": "stream",
     "text": [
      "Key first_name have value Qasim\n",
      "Key last_name have value Hassan\n",
      "Key age have value 15\n",
      "Key weight have value 10.5\n"
     ]
    }
   ],
   "source": [
    "for key, value in bio_data_dict.items():\n",
    "    print(f\"Key {key} have value {value}\")"
   ]
  },
  {
   "cell_type": "code",
   "execution_count": null,
   "id": "90837c53-092c-47b8-8ce0-9f1721788666",
   "metadata": {},
   "outputs": [],
   "source": []
  }
 ],
 "metadata": {
  "kernelspec": {
   "display_name": "Python 3 (ipykernel)",
   "language": "python",
   "name": "python3"
  },
  "language_info": {
   "codemirror_mode": {
    "name": "ipython",
    "version": 3
   },
   "file_extension": ".py",
   "mimetype": "text/x-python",
   "name": "python",
   "nbconvert_exporter": "python",
   "pygments_lexer": "ipython3",
   "version": "3.12.7"
  }
 },
 "nbformat": 4,
 "nbformat_minor": 5
}
