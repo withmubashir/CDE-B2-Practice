{
 "cells": [
  {
   "cell_type": "markdown",
   "id": "a96a09b5-b4f8-421f-aa85-0ab0afebb533",
   "metadata": {},
   "source": [
    "# **Python Class 04 - Batch 2 - SMIT**"
   ]
  },
  {
   "cell_type": "markdown",
   "id": "db85fafe-71b1-4192-ab93-e7b4acb89a9d",
   "metadata": {},
   "source": [
    "### Dictionary in Python"
   ]
  },
  {
   "cell_type": "code",
   "execution_count": 1,
   "id": "3eec1765-94fd-4bd2-896c-f3117b72c2fc",
   "metadata": {},
   "outputs": [],
   "source": [
    "bio_data_dict = {'first_name': 'Qasim', # item1\n",
    "                 'last_name': 'Hassan', # item2\n",
    "                 'age':15,\n",
    "                 'weight':10.5}"
   ]
  },
  {
   "cell_type": "code",
   "execution_count": 2,
   "id": "406950bc-6ae0-4aed-9025-777effb3b65b",
   "metadata": {},
   "outputs": [
    {
     "data": {
      "text/plain": [
       "'Qasim'"
      ]
     },
     "execution_count": 2,
     "metadata": {},
     "output_type": "execute_result"
    }
   ],
   "source": [
    "bio_data_dict['first_name']"
   ]
  },
  {
   "cell_type": "code",
   "execution_count": 3,
   "id": "67fd70b6-031f-48ef-9e9e-2c74b4619d49",
   "metadata": {},
   "outputs": [],
   "source": [
    "# How to add a new key value pairs in the dictionary\n",
    "bio_data_dict['profession'] = 'Data Engineer'"
   ]
  },
  {
   "cell_type": "code",
   "execution_count": 4,
   "id": "384bcc24-1886-4b19-b900-14d84a1269b8",
   "metadata": {},
   "outputs": [
    {
     "data": {
      "text/plain": [
       "{'first_name': 'Qasim',\n",
       " 'last_name': 'Hassan',\n",
       " 'age': 15,\n",
       " 'weight': 10.5,\n",
       " 'profession': 'Data Engineer'}"
      ]
     },
     "execution_count": 4,
     "metadata": {},
     "output_type": "execute_result"
    }
   ],
   "source": [
    "bio_data_dict"
   ]
  },
  {
   "cell_type": "code",
   "execution_count": 5,
   "id": "0b01ea3d-7033-4b9e-bcf2-2f78e4391c9c",
   "metadata": {},
   "outputs": [],
   "source": [
    "# How to update a key value pair\n",
    "bio_data_dict['weight'] = 75"
   ]
  },
  {
   "cell_type": "code",
   "execution_count": 6,
   "id": "91320bb9-3512-4c73-9f41-3efc72040813",
   "metadata": {},
   "outputs": [
    {
     "data": {
      "text/plain": [
       "{'first_name': 'Qasim',\n",
       " 'last_name': 'Hassan',\n",
       " 'age': 15,\n",
       " 'weight': 75,\n",
       " 'profession': 'Data Engineer'}"
      ]
     },
     "execution_count": 6,
     "metadata": {},
     "output_type": "execute_result"
    }
   ],
   "source": [
    "bio_data_dict"
   ]
  },
  {
   "cell_type": "code",
   "execution_count": 7,
   "id": "9a2a2fb8-438f-41f4-9268-eec5241258bf",
   "metadata": {},
   "outputs": [],
   "source": [
    "# Inserting a list as value in a dictionary\n",
    "bio_data_dict['phone number'] = ['246846','32546946']"
   ]
  },
  {
   "cell_type": "code",
   "execution_count": 8,
   "id": "c424096d-fbaa-4be5-a871-cf6a272ad221",
   "metadata": {},
   "outputs": [
    {
     "data": {
      "text/plain": [
       "{'first_name': 'Qasim',\n",
       " 'last_name': 'Hassan',\n",
       " 'age': 15,\n",
       " 'weight': 75,\n",
       " 'profession': 'Data Engineer',\n",
       " 'phone number': ['246846', '32546946']}"
      ]
     },
     "execution_count": 8,
     "metadata": {},
     "output_type": "execute_result"
    }
   ],
   "source": [
    "bio_data_dict"
   ]
  },
  {
   "cell_type": "code",
   "execution_count": 9,
   "id": "e62ee578-7ccc-4033-bb1e-a2aed72f4d62",
   "metadata": {},
   "outputs": [
    {
     "data": {
      "text/plain": [
       "'32546946'"
      ]
     },
     "execution_count": 9,
     "metadata": {},
     "output_type": "execute_result"
    }
   ],
   "source": [
    "bio_data_dict['phone number'][1]"
   ]
  },
  {
   "cell_type": "code",
   "execution_count": 10,
   "id": "87eb2a6a-924c-46dc-ba63-03ad80e0431e",
   "metadata": {},
   "outputs": [
    {
     "data": {
      "text/plain": [
       "['1', '23', '24', '2415']"
      ]
     },
     "execution_count": 10,
     "metadata": {},
     "output_type": "execute_result"
    }
   ],
   "source": [
    "bio_data_dict['random'] = ['1', '23', '24', '2415', '515', '55','85','518','51']\n",
    "num = int(len(bio_data_dict['random']))\n",
    "num = int(num/2)\n",
    "bio_data_dict['random'][:num]"
   ]
  },
  {
   "cell_type": "code",
   "execution_count": 15,
   "id": "c93644d8-d391-409d-ad36-c22d727c841f",
   "metadata": {},
   "outputs": [
    {
     "name": "stdout",
     "output_type": "stream",
     "text": [
      "Qasim\n"
     ]
    }
   ],
   "source": [
    "for i in bio_data_dict.keys():\n",
    "    if 'first' in i:\n",
    "        print(bio_data_dict[i])"
   ]
  },
  {
   "cell_type": "code",
   "execution_count": 16,
   "id": "253a1fd9-354d-4597-8fd2-5f1b57b22eb7",
   "metadata": {},
   "outputs": [
    {
     "data": {
      "text/plain": [
       "[{'first_name': 'Qasim',\n",
       "  'last_name': 'Hassan',\n",
       "  'age': 15,\n",
       "  'weight': 75,\n",
       "  'profession': 'Data Engineer',\n",
       "  'phone number': ['246846', '32546946']},\n",
       " {'first_name': 'Uzair',\n",
       "  'last_name': 'Khan',\n",
       "  'age': 20,\n",
       "  'weight': 55,\n",
       "  'profession': 'Data Engineer',\n",
       "  'phone number': ['24677846', '3022546946']},\n",
       " {'first_name': 'Ayan',\n",
       "  'last_name': 'Hussain',\n",
       "  'age': 55,\n",
       "  'weight': 15,\n",
       "  'profession': 'Data Engineer',\n",
       "  'phone number': ['2446', '32946']}]"
      ]
     },
     "execution_count": 16,
     "metadata": {},
     "output_type": "execute_result"
    }
   ],
   "source": [
    "bio_data_dict = [\n",
    "    {\n",
    "       'first_name': 'Qasim',\n",
    "       'last_name': 'Hassan',\n",
    "       'age': 15,\n",
    "       'weight': 75,\n",
    "       'profession': 'Data Engineer',\n",
    "       'phone number': ['246846', '32546946'] \n",
    "    },\n",
    "    {\n",
    "       'first_name': 'Uzair',\n",
    "       'last_name': 'Khan',\n",
    "       'age': 20,\n",
    "       'weight': 55,\n",
    "       'profession': 'Data Engineer',\n",
    "       'phone number': ['24677846', '3022546946'] \n",
    "    },\n",
    "    {\n",
    "       'first_name': 'Ayan',\n",
    "       'last_name': 'Hussain',\n",
    "       'age': 55,\n",
    "       'weight': 15,\n",
    "       'profession': 'Data Engineer',\n",
    "       'phone number': ['2446', '32946'] \n",
    "    }\n",
    "]\n",
    "bio_data_dict"
   ]
  },
  {
   "cell_type": "code",
   "execution_count": 18,
   "id": "e170ba96-eacf-442b-9392-eab80c4fc373",
   "metadata": {},
   "outputs": [
    {
     "data": {
      "text/plain": [
       "dict"
      ]
     },
     "execution_count": 18,
     "metadata": {},
     "output_type": "execute_result"
    }
   ],
   "source": [
    "type(bio_data_dict[0])"
   ]
  },
  {
   "cell_type": "code",
   "execution_count": 31,
   "id": "f97deb64-7da2-4f9f-9069-0cae1efe0a8c",
   "metadata": {},
   "outputs": [
    {
     "name": "stdout",
     "output_type": "stream",
     "text": [
      "(0, {'first_name': 'Qasim', 'last_name': 'Hassan', 'age': 15, 'weight': 75, 'profession': 'Data Engineer', 'phone number': ['246846', '32546946']})\n",
      "(1, {'first_name': 'Uzair', 'last_name': 'Khan', 'age': 20, 'weight': 55, 'profession': 'Data Engineer', 'phone number': ['24677846', '3022546946']})\n",
      "(2, {'first_name': 'Ayan', 'last_name': 'Hussain', 'age': 55, 'weight': 15, 'profession': 'Data Engineer', 'phone number': ['2446', '32946']})\n"
     ]
    }
   ],
   "source": [
    "for i in enumerate(bio_data_dict):\n",
    "    print(i)"
   ]
  },
  {
   "cell_type": "code",
   "execution_count": 30,
   "id": "d18bce1d-3537-4d97-83a9-8e4876899592",
   "metadata": {},
   "outputs": [
    {
     "name": "stdout",
     "output_type": "stream",
     "text": [
      "Qasim Hassan\n",
      "Uzair Khan\n",
      "Ayan Hussain\n"
     ]
    }
   ],
   "source": [
    "# Find all the first and last names in the above list\n",
    "for i in enumerate(bio_data_dict):\n",
    "    print(bio_data_dict[i[0]]['first_name'], end=' ')\n",
    "    print(bio_data_dict[i[0]]['last_name'])\n"
   ]
  },
  {
   "cell_type": "code",
   "execution_count": 33,
   "id": "970c930a-4708-430b-bfb9-4c403795afa4",
   "metadata": {},
   "outputs": [],
   "source": [
    "bio_data_dict.append(\n",
    "    {\n",
    "        'first_name':'Tariq',\n",
    "        'last_name':\"Jameel\",\n",
    "        'age':'67',\n",
    "        'weight':'77',\n",
    "        'profession':'Islamic Scholar',\n",
    "        'phone number':['2446', '32946']\n",
    "    }\n",
    ")"
   ]
  },
  {
   "cell_type": "code",
   "execution_count": 34,
   "id": "02aca3fb-e93c-418e-b6cc-8fb02d888830",
   "metadata": {},
   "outputs": [
    {
     "data": {
      "text/plain": [
       "[{'first_name': 'Qasim',\n",
       "  'last_name': 'Hassan',\n",
       "  'age': 15,\n",
       "  'weight': 75,\n",
       "  'profession': 'Data Engineer',\n",
       "  'phone number': ['246846', '32546946']},\n",
       " {'first_name': 'Uzair',\n",
       "  'last_name': 'Khan',\n",
       "  'age': 20,\n",
       "  'weight': 55,\n",
       "  'profession': 'Data Engineer',\n",
       "  'phone number': ['24677846', '3022546946']},\n",
       " {'first_name': 'Ayan',\n",
       "  'last_name': 'Hussain',\n",
       "  'age': 55,\n",
       "  'weight': 15,\n",
       "  'profession': 'Data Engineer',\n",
       "  'phone number': ['2446', '32946']},\n",
       " {'first_name': 'Tariq'},\n",
       " {'first_name': 'Tariq',\n",
       "  'last_name': 'Jameel',\n",
       "  'age': '67',\n",
       "  'weight': '77',\n",
       "  'profession': 'Islamic Scholar',\n",
       "  'phone number': ['2446', '32946']}]"
      ]
     },
     "execution_count": 34,
     "metadata": {},
     "output_type": "execute_result"
    }
   ],
   "source": [
    "bio_data_dict"
   ]
  },
  {
   "cell_type": "code",
   "execution_count": 35,
   "id": "26976baf-7d0a-4ef0-a46a-dec58f9987cd",
   "metadata": {},
   "outputs": [
    {
     "data": {
      "text/plain": [
       "{'first_name': 'Tariq'}"
      ]
     },
     "execution_count": 35,
     "metadata": {},
     "output_type": "execute_result"
    }
   ],
   "source": [
    "bio_data_dict.pop(len(bio_data_dict)-2)"
   ]
  },
  {
   "cell_type": "code",
   "execution_count": 36,
   "id": "970305ca-1f5c-4622-b239-2ad3801a2904",
   "metadata": {},
   "outputs": [
    {
     "data": {
      "text/plain": [
       "[{'first_name': 'Qasim',\n",
       "  'last_name': 'Hassan',\n",
       "  'age': 15,\n",
       "  'weight': 75,\n",
       "  'profession': 'Data Engineer',\n",
       "  'phone number': ['246846', '32546946']},\n",
       " {'first_name': 'Uzair',\n",
       "  'last_name': 'Khan',\n",
       "  'age': 20,\n",
       "  'weight': 55,\n",
       "  'profession': 'Data Engineer',\n",
       "  'phone number': ['24677846', '3022546946']},\n",
       " {'first_name': 'Ayan',\n",
       "  'last_name': 'Hussain',\n",
       "  'age': 55,\n",
       "  'weight': 15,\n",
       "  'profession': 'Data Engineer',\n",
       "  'phone number': ['2446', '32946']},\n",
       " {'first_name': 'Tariq',\n",
       "  'last_name': 'Jameel',\n",
       "  'age': '67',\n",
       "  'weight': '77',\n",
       "  'profession': 'Islamic Scholar',\n",
       "  'phone number': ['2446', '32946']}]"
      ]
     },
     "execution_count": 36,
     "metadata": {},
     "output_type": "execute_result"
    }
   ],
   "source": [
    "bio_data_dict"
   ]
  },
  {
   "cell_type": "code",
   "execution_count": 37,
   "id": "03c18c61-b286-46dd-bd77-43e68ac476d4",
   "metadata": {},
   "outputs": [],
   "source": [
    "# Create a nested dictionary having dictionary within a dictionary\n",
    "# Also implement slicing operations on it to get a particular information from the nested list\n",
    "\n",
    "\n",
    "\n",
    "\n",
    "\n",
    "\n"
   ]
  },
  {
   "cell_type": "markdown",
   "id": "a9dedba8-463b-45d2-973c-30e0046fb0e6",
   "metadata": {},
   "source": [
    "### Functions\n",
    "- Functions are set of instruction that you can re use easily\n",
    "- Functions can have parameters passed to them and then perform operations accordingly"
   ]
  },
  {
   "cell_type": "code",
   "execution_count": 38,
   "id": "d02302e3-47fd-4062-96f9-ffd9ff7f00bd",
   "metadata": {},
   "outputs": [
    {
     "name": "stdout",
     "output_type": "stream",
     "text": [
      "4489\n"
     ]
    }
   ],
   "source": [
    "# function to calculate square of a number\n",
    "def square(num): # function defination // num is the parameter and square is the function name\n",
    "    print(num**2)\n",
    "\n",
    "square(67) # function call"
   ]
  },
  {
   "cell_type": "code",
   "execution_count": 40,
   "id": "3a1e41b2-99e9-48eb-a121-bcc7d285a1c6",
   "metadata": {},
   "outputs": [
    {
     "name": "stdout",
     "output_type": "stream",
     "text": [
      "You have made an Error!!!!\n"
     ]
    }
   ],
   "source": [
    "# function without parameter\n",
    "def error():\n",
    "    print('You have made an Error!!!!')\n",
    "\n",
    "error()"
   ]
  },
  {
   "cell_type": "code",
   "execution_count": 46,
   "id": "5490df5c-3999-42f7-960a-eedb2c23cab2",
   "metadata": {},
   "outputs": [
    {
     "name": "stdout",
     "output_type": "stream",
     "text": [
      "292.5\n"
     ]
    }
   ],
   "source": [
    "# function with default values\n",
    "def circle_area(radius, pi=3.1425):\n",
    "    print(3/4*radius*pi)\n",
    "circle_area(78,5)"
   ]
  },
  {
   "cell_type": "code",
   "execution_count": 48,
   "id": "6b83bbf8-527b-4d94-81b2-a384391314ea",
   "metadata": {},
   "outputs": [
    {
     "name": "stdout",
     "output_type": "stream",
     "text": [
      "Final Addition of 3 numbers:  97\n"
     ]
    }
   ],
   "source": [
    "# function with returning values\n",
    "def add(num1=0, num2=0, num3=0):\n",
    "    return num1+num2+num3\n",
    "\n",
    "ans = add(78,-58,77)\n",
    "print(\"Final Addition of 3 numbers: \", ans)"
   ]
  },
  {
   "cell_type": "code",
   "execution_count": 50,
   "id": "2b692cad-51e3-4bc0-a42b-a8b6a59aab92",
   "metadata": {},
   "outputs": [
    {
     "name": "stdout",
     "output_type": "stream",
     "text": [
      "-1\n"
     ]
    }
   ],
   "source": [
    "# positional arguments in the function parameter\n",
    "def calc(num1=0, num3=0, num2=0):\n",
    "    return num1-num2+num3\n",
    "\n",
    "print(calc(10, num2=74, num3=85))"
   ]
  },
  {
   "cell_type": "code",
   "execution_count": 64,
   "id": "e9a500ae-52d8-4ccb-b912-c5dd3981c0ac",
   "metadata": {},
   "outputs": [
    {
     "name": "stdout",
     "output_type": "stream",
     "text": [
      "team Pakistan\n",
      "The captain of the team Pakistan is Dhoni and its coach is Ricky.\n"
     ]
    }
   ],
   "source": [
    "# dealing with unknown data\n",
    "def team(captain, coach, **anything):\n",
    "    for key, value in anything.items():\n",
    "        print(key, value)\n",
    "    return f'The captain of the team {value} is {captain} and its coach is {coach}.'\n",
    "\n",
    "print(team('Dhoni','Ricky', team = 'Pakistan'))"
   ]
  },
  {
   "cell_type": "code",
   "execution_count": 74,
   "id": "93f03a94-b8b1-4d35-a6dd-51a7225e2d0e",
   "metadata": {},
   "outputs": [
    {
     "name": "stdout",
     "output_type": "stream",
     "text": [
      "Football has 11 players and 4 defenders\n",
      "2025\n"
     ]
    }
   ],
   "source": [
    "# local vs global variable\n",
    "# function within a function\n",
    "players = 11 # global variable - means can be called anywhere in the program\n",
    "def football():\n",
    "    defenders = 4 # local variable - can only be used in the enviornment created in\n",
    "    print(f'Football has {players} players and {defenders} defenders')\n",
    "    square(45)\n",
    "\n",
    "football()"
   ]
  },
  {
   "cell_type": "code",
   "execution_count": 73,
   "id": "899b8e56-490e-456c-8bc1-fddd79ba9dff",
   "metadata": {},
   "outputs": [
    {
     "ename": "NameError",
     "evalue": "name 'defenders' is not defined",
     "output_type": "error",
     "traceback": [
      "\u001b[1;31m---------------------------------------------------------------------------\u001b[0m",
      "\u001b[1;31mNameError\u001b[0m                                 Traceback (most recent call last)",
      "Cell \u001b[1;32mIn[73], line 1\u001b[0m\n\u001b[1;32m----> 1\u001b[0m \u001b[43mdefenders\u001b[49m\n",
      "\u001b[1;31mNameError\u001b[0m: name 'defenders' is not defined"
     ]
    }
   ],
   "source": [
    "defenders # local variable that's why throwing error"
   ]
  },
  {
   "cell_type": "code",
   "execution_count": null,
   "id": "398f2e7f-4bc2-4d18-aa81-2d68176f7df9",
   "metadata": {},
   "outputs": [],
   "source": []
  }
 ],
 "metadata": {
  "kernelspec": {
   "display_name": "Python 3 (ipykernel)",
   "language": "python",
   "name": "python3"
  },
  "language_info": {
   "codemirror_mode": {
    "name": "ipython",
    "version": 3
   },
   "file_extension": ".py",
   "mimetype": "text/x-python",
   "name": "python",
   "nbconvert_exporter": "python",
   "pygments_lexer": "ipython3",
   "version": "3.12.7"
  }
 },
 "nbformat": 4,
 "nbformat_minor": 5
}
